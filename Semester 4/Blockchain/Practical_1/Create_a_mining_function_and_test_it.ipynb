{
  "nbformat": 4,
  "nbformat_minor": 0,
  "metadata": {
    "colab": {
      "provenance": [],
      "authorship_tag": "ABX9TyPxzWQwpsm5F7g++FOkHUUb",
      "include_colab_link": true
    },
    "kernelspec": {
      "name": "python3",
      "display_name": "Python 3"
    },
    "language_info": {
      "name": "python"
    }
  },
  "cells": [
    {
      "cell_type": "markdown",
      "metadata": {
        "id": "view-in-github",
        "colab_type": "text"
      },
      "source": [
        "<a href=\"https://colab.research.google.com/github/mscitpract/Blockchain/blob/main/Create_a_mining_function_and_test_it.ipynb\" target=\"_parent\"><img src=\"https://colab.research.google.com/assets/colab-badge.svg\" alt=\"Open In Colab\"/></a>"
      ]
    },
    {
      "cell_type": "code",
      "source": [
        "import hashlib\n",
        "\n",
        "def sha256(message):\n",
        "    return hashlib.sha256(message.encode(\"ascii\")).hexdigest()\n",
        "\n",
        "def mine(message, difficulty=1):\n",
        "    assert difficulty > 0, \"Difficulty must be greater than 0\"\n",
        "    prefix = \"1\" * difficulty\n",
        "    for i in range(1000):\n",
        "        digest = sha256(str(hash(message)) + str(i))\n",
        "        if digest.startswith(prefix):\n",
        "            print(f\"After {str(i)} iterations, found nonce: {digest}\")\n",
        "            #return digest\n",
        "\n",
        "mine(\"test message\", 2)\n"
      ],
      "metadata": {
        "colab": {
          "base_uri": "https://localhost:8080/"
        },
        "id": "jIbphaHdQPvl",
        "outputId": "fd837a87-ac58-4623-d09f-e99dee338364"
      },
      "execution_count": 8,
      "outputs": [
        {
          "output_type": "stream",
          "name": "stdout",
          "text": [
            "After 217 iterations, found nonce: 117d8b3b06e1eb5eb2f1b7ad60e9f1113770f79b6bb78114492060f2ab5c9817\n",
            "After 265 iterations, found nonce: 113a33667a3e6c111c13759e42c3322e78c15721f97ca6b5d8e1702e44a54028\n"
          ]
        }
      ]
    }
  ]
}