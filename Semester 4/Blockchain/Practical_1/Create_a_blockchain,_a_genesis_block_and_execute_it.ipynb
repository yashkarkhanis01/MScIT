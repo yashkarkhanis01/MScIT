{
  "nbformat": 4,
  "nbformat_minor": 0,
  "metadata": {
    "colab": {
      "provenance": [],
      "authorship_tag": "ABX9TyMEmrdgWnx5dR6JK9hy0mk+",
      "include_colab_link": true
    },
    "kernelspec": {
      "name": "python3",
      "display_name": "Python 3"
    },
    "language_info": {
      "name": "python"
    }
  },
  "cells": [
    {
      "cell_type": "markdown",
      "metadata": {
        "id": "view-in-github",
        "colab_type": "text"
      },
      "source": [
        "<a href=\"https://colab.research.google.com/github/mscitpract/Blockchain/blob/main/Create_a_blockchain%2C_a_genesis_block_and_execute_it.ipynb\" target=\"_parent\"><img src=\"https://colab.research.google.com/assets/colab-badge.svg\" alt=\"Open In Colab\"/></a>"
      ]
    },
    {
      "cell_type": "code",
      "execution_count": 1,
      "metadata": {
        "colab": {
          "base_uri": "https://localhost:8080/"
        },
        "id": "BdcvpVFxBrw0",
        "outputId": "77257f22-da16-4106-888c-8a2ddcb52aeb"
      },
      "outputs": [
        {
          "output_type": "stream",
          "name": "stdout",
          "text": [
            "Collecting pycryptodome\n",
            "  Downloading pycryptodome-3.20.0-cp35-abi3-manylinux_2_17_x86_64.manylinux2014_x86_64.whl.metadata (3.4 kB)\n",
            "Downloading pycryptodome-3.20.0-cp35-abi3-manylinux_2_17_x86_64.manylinux2014_x86_64.whl (2.1 MB)\n",
            "\u001b[2K   \u001b[90m━━━━━━━━━━━━━━━━━━━━━━━━━━━━━━━━━━━━━━━━\u001b[0m \u001b[32m2.1/2.1 MB\u001b[0m \u001b[31m22.1 MB/s\u001b[0m eta \u001b[36m0:00:00\u001b[0m\n",
            "\u001b[?25hInstalling collected packages: pycryptodome\n",
            "Successfully installed pycryptodome-3.20.0\n"
          ]
        }
      ],
      "source": [
        "!pip install pycryptodome"
      ]
    },
    {
      "cell_type": "code",
      "source": [
        "import Crypto\n",
        "import binascii\n",
        "import datetime\n",
        "import collections\n",
        "\n",
        "from Crypto.PublicKey import RSA\n",
        "from Crypto.Hash import SHA\n",
        "from Crypto.Signature import PKCS1_v1_5\n",
        "\n",
        "\n",
        "class Client:\n",
        "    def __init__(self):\n",
        "        # Creating random number for key\n",
        "        random = Crypto.Random.new().read\n",
        "        # Creating new public key and private key\n",
        "        self._private_key = RSA.generate(1024, random)\n",
        "        self._public_key = self._private_key.publickey()\n",
        "        self._signer = PKCS1_v1_5.new(self._private_key)\n",
        "\n",
        "    @property\n",
        "    def identity(self):\n",
        "        return binascii.hexlify(self._public_key.exportKey(format=\"DER\")).decode(\n",
        "            \"ascii\"\n",
        "        )\n",
        "\n",
        "\n",
        "class Transaction:\n",
        "    def __init__(self, sender, receiver, value):\n",
        "        self.sender = sender\n",
        "        self.receiver = receiver\n",
        "        self.value = value\n",
        "        self.time = datetime.datetime.now()\n",
        "\n",
        "    def to_dict(self):\n",
        "        if self.sender == \"Genesis\":\n",
        "            identity = \"Genesis\"\n",
        "        else:\n",
        "            identity = self.sender.identity\n",
        "\n",
        "        return collections.OrderedDict(\n",
        "            {\n",
        "                \"sender\": identity,\n",
        "                \"receiver\": self.receiver,\n",
        "                \"value\": self.value,\n",
        "                \"time\": self.time,\n",
        "            }\n",
        "        )\n",
        "\n",
        "    def sign_transaction(self):\n",
        "        private_key = self.sender._private_key\n",
        "        signer = PKCS1_v1_5.new(private_key)\n",
        "        h = SHA.new(str(self.to_dict()).encode(\"utf8\"))\n",
        "        return binascii.hexlify(signer.sign(h)).decode(\"ascii\")\n",
        "\n",
        "\n",
        "class Block:\n",
        "    def __init__(self):\n",
        "        self.verified_transactions = []\n",
        "        self.previous_block_hash = \"\"\n",
        "        self.Nonce = \"\"\n",
        "\n",
        "    last_block_hash = \"\"\n",
        "\n",
        "    def display_transaction(transaction):\n",
        "        dict = transaction.to_dict()\n",
        "        print(\"Sender: \" + dict[\"sender\"])\n",
        "        print(\"-----\")\n",
        "        print(\"Receiver: \" + dict[\"receiver\"])  # Corrected typo\n",
        "        print(\"-----\")\n",
        "        print(\"Value: \" + str(dict[\"value\"]))\n",
        "        print(\"-----\")\n",
        "        print(\"Time: \" + str(dict[\"time\"]))\n",
        "        print(\"-----\")\n",
        "\n",
        "\n",
        "Yash = Client()\n",
        "t0 = Transaction(\"Genesis\", Yash.identity, 500.0)\n",
        "\n",
        "block0 = Block()\n",
        "block0.previous_block_hash = None\n",
        "Nonce = None\n",
        "block0.verified_transactions.append(t0)\n",
        "digest = hash(block0)\n",
        "last_block_hash = digest\n",
        "TPCoins = []\n",
        "\n",
        "\n",
        "def dump_blockchain(self):\n",
        "    print(\"Number of blocks in chain: \" + str(len(self)))\n",
        "    for x in range(len(TPCoins)):\n",
        "        block_temp = TPCoins[x]\n",
        "        print(\"block #\" + str(x))\n",
        "    for transaction in block_temp.verified_transactions:\n",
        "        Block.display_transaction(transaction)\n",
        "        print(\"-\" * 20)\n",
        "    print(\"=\" * 30)\n",
        "\n",
        "\n",
        "TPCoins.append(block0)\n",
        "dump_blockchain(TPCoins)"
      ],
      "metadata": {
        "colab": {
          "base_uri": "https://localhost:8080/"
        },
        "id": "UHUvENMhB57Y",
        "outputId": "498bf46c-5e63-4153-ce5d-280854dd798e"
      },
      "execution_count": 3,
      "outputs": [
        {
          "output_type": "stream",
          "name": "stdout",
          "text": [
            "Number of blocks in chain: 1\n",
            "block #0\n",
            "Sender: Genesis\n",
            "-----\n",
            "Receiver: 30819f300d06092a864886f70d010101050003818d0030818902818100aa1dac7fb734a6df94291ae264843f247bbb48ab59dc31446c2b8bbb7631f0dfbbed9ab697e28881a2605cb14fa125080607a6c4a633335b6c2de39bb09fa01f6d920cc670264b0d4758f21f08ba62e1ac011d7821b3b82f35e2f9d7ef8d51c70cb1e9b58de23143284ae2f3282a457b92472c63a4cf87a3b3de5b4b835979e10203010001\n",
            "-----\n",
            "Value: 500.0\n",
            "-----\n",
            "Time: 2024-08-15 07:55:25.903757\n",
            "-----\n",
            "--------------------\n",
            "==============================\n"
          ]
        }
      ]
    }
  ]
}