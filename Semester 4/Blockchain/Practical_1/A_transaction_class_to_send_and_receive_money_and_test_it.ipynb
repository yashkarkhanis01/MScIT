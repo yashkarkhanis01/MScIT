{
  "nbformat": 4,
  "nbformat_minor": 0,
  "metadata": {
    "colab": {
      "provenance": [],
      "authorship_tag": "ABX9TyNjY6JLZ+9VYos3ylxxZcMr",
      "include_colab_link": true
    },
    "kernelspec": {
      "name": "python3",
      "display_name": "Python 3"
    },
    "language_info": {
      "name": "python"
    }
  },
  "cells": [
    {
      "cell_type": "markdown",
      "metadata": {
        "id": "view-in-github",
        "colab_type": "text"
      },
      "source": [
        "<a href=\"https://colab.research.google.com/github/mscitpract/Blockchain/blob/main/A_transaction_class_to_send_and_receive_money_and_test_it.ipynb\" target=\"_parent\"><img src=\"https://colab.research.google.com/assets/colab-badge.svg\" alt=\"Open In Colab\"/></a>"
      ]
    },
    {
      "cell_type": "code",
      "source": [
        "import Crypto\n",
        "import binascii\n",
        "\n",
        "import datetime\n",
        "import collections\n",
        "\n",
        "from Crypto.PublicKey import RSA\n",
        "from Crypto.Signature import PKCS1_v1_5\n",
        "from Crypto.Hash import SHA\n",
        "\n",
        "class Client:\n",
        "    def __init__(self):\n",
        "        # Creating random number for key\n",
        "        random = Crypto.Random.new().read\n",
        "        # Creating new public key and private key\n",
        "        self._private_key = RSA.generate(1024, random)\n",
        "        self._public_key = self._private_key.publickey()\n",
        "        self._signer = PKCS1_v1_5.new(self._private_key)\n",
        "\n",
        "    @property\n",
        "    def identity(self):\n",
        "        return binascii.hexlify(self._public_key.exportKey(format='DER')).decode('ascii')\n",
        "\n",
        "\n",
        "\n",
        "class Transaction:\n",
        "    def __init__(self, sender, receiver, value):\n",
        "        self.sender = sender\n",
        "        self.receiver = receiver\n",
        "        self.value = value\n",
        "        self.time = datetime.datetime.now()\n",
        "\n",
        "    def to_dict(self):\n",
        "        if self.sender == \"Genesis\":\n",
        "            identity = \"Genesis\"\n",
        "        else:\n",
        "            identity = self.sender.identity\n",
        "\n",
        "        return collections.OrderedDict({\n",
        "            'sender': identity,\n",
        "            'receiver': self.receiver,\n",
        "            'value': self.value,\n",
        "            'time': self.time\n",
        "        })\n",
        "\n",
        "    def sign_transaction(self):\n",
        "        private_key = self.sender._private_key\n",
        "        signer = PKCS1_v1_5.new(private_key)\n",
        "        h = SHA.new(str(self.to_dict()).encode('utf8'))\n",
        "        return binascii.hexlify(signer.sign(h)).decode('ascii')\n",
        "\n",
        "Yash = Client()\n",
        "print(\"-\"*50)\n",
        "print(\"Yash Key\")\n",
        "print(Yash.identity)\n",
        "\n",
        "Aditya = Client()\n",
        "print(\"-\"*50)\n",
        "print(\"Aditya Key\")\n",
        "print(Aditya.identity)\n",
        "\n",
        "t = Transaction(Yash, Aditya.identity, 10.0)\n",
        "print(\"-\"*50)\n",
        "print(\"Transaction Sign\")\n",
        "signature = t.sign_transaction()\n",
        "print(signature)\n",
        "print(\"-\"*50)"
      ],
      "metadata": {
        "colab": {
          "base_uri": "https://localhost:8080/"
        },
        "id": "28nqbT4s8sIy",
        "outputId": "e090ceec-7cb5-4720-f7d8-d0b67d34de9c"
      },
      "execution_count": 5,
      "outputs": [
        {
          "output_type": "stream",
          "name": "stdout",
          "text": [
            "--------------------------------------------------\n",
            "Yash Key\n",
            "30819f300d06092a864886f70d010101050003818d0030818902818100c9c88679366b872e90279cb98c6754471f491e61285a6d1c5e739353cfe9e752d7a8cacf6bd3f1db8311e46a0457902f849dd1c164c244e36a83430eef7d8b9d66bfc0c2352f2fba2e39641c46d8a3014c463c01b544c15f12fb29949b1aac8f1703251f19f1a0fd7dd9aa78270e96e17b3b326f8b5c24fe18e221c122f8c51b0203010001\n",
            "--------------------------------------------------\n",
            "Aditya Key\n",
            "30819f300d06092a864886f70d010101050003818d0030818902818100f9b6e54bfe8781ea41044daa4d5dfefade5c1ddebdde3773e036017a483d2d8246ba01c4adef13927434a77e1b67b712901d60b9180bc135155c782b96d4295eb249db8764f4fa8a415f185313a89653992dd6338911342265bf99d9a4fce2b3e6cdc857a8c08daa6f7d5812844d2473a548098d16a728f621c5f25910c4d2ef0203010001\n",
            "--------------------------------------------------\n",
            "Transaction Sign\n",
            "b5f6fa444ece89080affc56e39f4d222a694927d2721837fea835921d1086e5ed33db201d02507ed60620c3f75f9ec3695860441c7d4b731ef7730dde246fef8e88fae927731e0840661e89faa9f140838c5c9f5e182d9c24fa29900156b2cb14eabc6496dab95b567095fec450b77d616fd7bbbff6c1e0870370f05e9d83c0e\n",
            "--------------------------------------------------\n"
          ]
        }
      ]
    }
  ]
}