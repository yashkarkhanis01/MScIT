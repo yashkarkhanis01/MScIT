{
  "nbformat": 4,
  "nbformat_minor": 0,
  "metadata": {
    "colab": {
      "provenance": [],
      "authorship_tag": "ABX9TyMK8rBRjYh/asJ01J+wZwRr",
      "include_colab_link": true
    },
    "kernelspec": {
      "name": "python3",
      "display_name": "Python 3"
    },
    "language_info": {
      "name": "python"
    }
  },
  "cells": [
    {
      "cell_type": "markdown",
      "metadata": {
        "id": "view-in-github",
        "colab_type": "text"
      },
      "source": [
        "<a href=\"https://colab.research.google.com/github/mscitpract/Blockchain/blob/main/A_simple_client_class_that_generates_the_private_and_public_keys_by_using_the_built_in_Python_RSA_algorithm_and_test_it.ipynb\" target=\"_parent\"><img src=\"https://colab.research.google.com/assets/colab-badge.svg\" alt=\"Open In Colab\"/></a>"
      ]
    },
    {
      "cell_type": "code",
      "execution_count": 1,
      "metadata": {
        "colab": {
          "base_uri": "https://localhost:8080/"
        },
        "id": "XDfR0IfGoU-x",
        "outputId": "ffa01621-d301-4e53-82fb-2d1d358c47c4"
      },
      "outputs": [
        {
          "output_type": "stream",
          "name": "stdout",
          "text": [
            "Collecting pycryptodome\n",
            "  Downloading pycryptodome-3.20.0-cp35-abi3-manylinux_2_17_x86_64.manylinux2014_x86_64.whl.metadata (3.4 kB)\n",
            "Downloading pycryptodome-3.20.0-cp35-abi3-manylinux_2_17_x86_64.manylinux2014_x86_64.whl (2.1 MB)\n",
            "\u001b[2K   \u001b[90m━━━━━━━━━━━━━━━━━━━━━━━━━━━━━━━━━━━━━━━━\u001b[0m \u001b[32m2.1/2.1 MB\u001b[0m \u001b[31m15.7 MB/s\u001b[0m eta \u001b[36m0:00:00\u001b[0m\n",
            "\u001b[?25hInstalling collected packages: pycryptodome\n",
            "Successfully installed pycryptodome-3.20.0\n",
            "1bcaa89fe616a57def6964c7954ed759a74b7ce6652b936f6e02687d44e87521842e6ec7e90be3ce38f0f58b4d6778cd85f76c0aa231facef6478120499eb972f2efa4bf46e0398a86a33358aa0f73a78462c6591fc5c094156212bd8cf1581953071e69c0e195d9768b1779eb2a7fd853a43b65968a0f6a26229769e7f90013\n"
          ]
        }
      ],
      "source": [
        "!pip install pycryptodome # Install the pycryptodome package, which provides the Crypto module\n",
        "import hashlib\n",
        "import random\n",
        "import string\n",
        "import json\n",
        "import binascii\n",
        "import numpy as np\n",
        "import pandas as pd\n",
        "import pylab as pl\n",
        "import logging\n",
        "import datetime\n",
        "import collections\n",
        "\n",
        "import Crypto # Now you can import Crypto after installing it\n",
        "import Crypto.PublicKey\n",
        "import Crypto.Random\n",
        "from Crypto.Hash import SHA\n",
        "from Crypto.PublicKey import RSA\n",
        "from Crypto.Signature import PKCS1_v1_5\n",
        "\n",
        "import binascii\n",
        "class Client:\n",
        "   def __init__(self):\n",
        "      random = Crypto.Random.new().read\n",
        "      self._private_key = RSA.generate(1024, random)\n",
        "      self._public_key = self._private_key.publickey()\n",
        "      self._signer = PKCS1_v1_5.new(self._private_key)\n",
        "\n",
        "   @property\n",
        "   def identity(self):\n",
        "      return binascii.hexlify(self._public_key.exportKey(format='DER')).decode('ascii')\n",
        "\n",
        "class Transaction:\n",
        "   def __init__(self, sender, recipient, value):\n",
        "    self.sender = sender\n",
        "    self.recipient = recipient\n",
        "    self.value = value\n",
        "    self.time = datetime.datetime.now()\n",
        "   def to_dict(self):\n",
        "    if self.sender == \"Genesis\":\n",
        "      identity = \"Genesis\"\n",
        "    else:\n",
        "      identity = self.sender.identity\n",
        "    return collections.OrderedDict({\n",
        "      'sender': identity,\n",
        "      'recipient': self.recipient,\n",
        "      'value': self.value,\n",
        "      'time' : self.time})\n",
        "   def sign_transaction(self):\n",
        "    private_key = self.sender._private_key\n",
        "    signer = PKCS1_v1_5.new(private_key)\n",
        "    h = SHA.new(str(self.to_dict()).encode('utf8'))\n",
        "    return binascii.hexlify(signer.sign(h)).decode('ascii')\n",
        "Yash = Client()\n",
        "Aditya = Client()\n",
        "t = Transaction(Yash,Aditya.identity,5.0)\n",
        "signature = t.sign_transaction()\n",
        "print (signature)"
      ]
    }
  ]
}