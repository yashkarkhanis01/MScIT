{
  "nbformat": 4,
  "nbformat_minor": 0,
  "metadata": {
    "colab": {
      "provenance": [],
      "authorship_tag": "ABX9TyPn4bG/YDd9cjZZaNQUXaHi",
      "include_colab_link": true
    },
    "kernelspec": {
      "name": "python3",
      "display_name": "Python 3"
    },
    "language_info": {
      "name": "python"
    }
  },
  "cells": [
    {
      "cell_type": "markdown",
      "metadata": {
        "id": "view-in-github",
        "colab_type": "text"
      },
      "source": [
        "<a href=\"https://colab.research.google.com/github/mscitpract/Blockchain/blob/main/Add_blocksto_the_miner_and_dump_the_blockchain.ipynb\" target=\"_parent\"><img src=\"https://colab.research.google.com/assets/colab-badge.svg\" alt=\"Open In Colab\"/></a>"
      ]
    },
    {
      "cell_type": "code",
      "execution_count": 1,
      "metadata": {
        "colab": {
          "base_uri": "https://localhost:8080/"
        },
        "id": "_NU-KrmURSol",
        "outputId": "302e47da-d5d4-4966-f3ae-d1d86516a33c"
      },
      "outputs": [
        {
          "output_type": "stream",
          "name": "stdout",
          "text": [
            "Timestamp: 2024-08-15 09:01:35.948176+00:00\n",
            "Data: First block\n",
            "Previous Hash: 0\n",
            "Hash: 876fb923a443ba6afe5fb32dd79961e85be2b582cf74c233842b630ae16fe4d9\n",
            "\n",
            "Timestamp: 2024-08-15 09:01:35.948275+00:00\n",
            "Data: Second block\n",
            "Previous Hash: 876fb923a443ba6afe5fb32dd79961e85be2b582cf74c233842b630ae16fe4d9\n",
            "Hash: 8e2fb9e02898feb024dff05ee0b27fd5ea0a448e252d975e6ec5f7b0a252a6cd\n",
            "\n",
            "Timestamp: 2024-08-15 09:01:35.948364+00:00\n",
            "Data: Third block\n",
            "Previous Hash: 8e2fb9e02898feb024dff05ee0b27fd5ea0a448e252d975e6ec5f7b0a252a6cd\n",
            "Hash: 06e369fbfbe5362a8115a5c6f3e2d3ec7292cc4272052dcc3280898e3206208d\n",
            "\n"
          ]
        }
      ],
      "source": [
        "import datetime\n",
        "import hashlib\n",
        "\n",
        "# Create a class with two functions\n",
        "class Block:\n",
        "    def __init__(self, data, previous_hash):\n",
        "        self.timestamp = datetime.datetime.now(datetime.timezone.utc)\n",
        "        self.data = data\n",
        "        self.previous_hash = previous_hash\n",
        "        self.hash = self.calc_hash()\n",
        "\n",
        "    def calc_hash(self):\n",
        "        sha = hashlib.sha256()\n",
        "        hash_str = self.data.encode(\"utf-8\")\n",
        "        sha.update(hash_str)\n",
        "        return sha.hexdigest()\n",
        "\n",
        "# Instantiate the class\n",
        "blockchain = [Block(\"First block\", \"0\")]\n",
        "blockchain.append(Block(\"Second block\", blockchain[0].hash))\n",
        "blockchain.append(Block(\"Third block\", blockchain[1].hash))\n",
        "\n",
        "# Dumping the blockchain\n",
        "for block in blockchain:\n",
        "    print(\n",
        "        f\"Timestamp: {block.timestamp}\\n\"\n",
        "        f\"Data: {block.data}\\n\"\n",
        "        f\"Previous Hash: {block.previous_hash}\\n\"\n",
        "        f\"Hash: {block.hash}\\n\"\n",
        "    )\n"
      ]
    }
  ]
}