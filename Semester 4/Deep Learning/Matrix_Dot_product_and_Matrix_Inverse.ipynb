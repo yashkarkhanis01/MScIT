{
  "nbformat": 4,
  "nbformat_minor": 0,
  "metadata": {
    "colab": {
      "provenance": [],
      "authorship_tag": "ABX9TyPwx0TXlderlgm/ZZDNnByR",
      "include_colab_link": true
    },
    "kernelspec": {
      "name": "python3",
      "display_name": "Python 3"
    },
    "language_info": {
      "name": "python"
    }
  },
  "cells": [
    {
      "cell_type": "markdown",
      "metadata": {
        "id": "view-in-github",
        "colab_type": "text"
      },
      "source": [
        "<a href=\"https://colab.research.google.com/github/mscitpract/DL/blob/main/Matrix_Dot_product_and_Matrix_Inverse.ipynb\" target=\"_parent\"><img src=\"https://colab.research.google.com/assets/colab-badge.svg\" alt=\"Open In Colab\"/></a>"
      ]
    },
    {
      "cell_type": "code",
      "execution_count": 1,
      "metadata": {
        "id": "N5K41oV6iBhK"
      },
      "outputs": [],
      "source": [
        "import numpy as np\n",
        "import tensorflow as tf"
      ]
    },
    {
      "cell_type": "code",
      "source": [
        "#Matrix Dot Product\n",
        "D1 = [2,-3]\n",
        "D2 = [4,3]\n",
        "dotproduct = np.dot(D1,D2)\n",
        "dotproduct"
      ],
      "metadata": {
        "colab": {
          "base_uri": "https://localhost:8080/"
        },
        "id": "6tuzeKTpiFrn",
        "outputId": "bfd434a2-0a96-49c2-ae37-f9ba54a31616"
      },
      "execution_count": 2,
      "outputs": [
        {
          "output_type": "execute_result",
          "data": {
            "text/plain": [
              "-1"
            ]
          },
          "metadata": {},
          "execution_count": 2
        }
      ]
    },
    {
      "cell_type": "code",
      "source": [
        "#matrix of inverse\n",
        "Matrix = np.array([[1,2,3],[3,4,5],[8,4,9]])\n",
        "Inverse_Matrix = np.linalg.inv(Matrix)\n",
        "Inverse_Matrix"
      ],
      "metadata": {
        "colab": {
          "base_uri": "https://localhost:8080/"
        },
        "id": "B51by9aFid8e",
        "outputId": "c0c93a81-ed7d-4c51-bdf9-0f58530fb6f4"
      },
      "execution_count": 3,
      "outputs": [
        {
          "output_type": "execute_result",
          "data": {
            "text/plain": [
              "array([[-0.88888889,  0.33333333,  0.11111111],\n",
              "       [-0.72222222,  0.83333333, -0.22222222],\n",
              "       [ 1.11111111, -0.66666667,  0.11111111]])"
            ]
          },
          "metadata": {},
          "execution_count": 3
        }
      ]
    }
  ]
}