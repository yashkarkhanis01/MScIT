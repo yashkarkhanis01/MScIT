{
  "nbformat": 4,
  "nbformat_minor": 0,
  "metadata": {
    "colab": {
      "provenance": [],
      "authorship_tag": "ABX9TyPoE9J2GpXlJSP6nBRPcAAn",
      "include_colab_link": true
    },
    "kernelspec": {
      "name": "python3",
      "display_name": "Python 3"
    },
    "language_info": {
      "name": "python"
    }
  },
  "cells": [
    {
      "cell_type": "markdown",
      "metadata": {
        "id": "view-in-github",
        "colab_type": "text"
      },
      "source": [
        "<a href=\"https://colab.research.google.com/github/mscitpract/DL/blob/main/DLP1.ipynb\" target=\"_parent\"><img src=\"https://colab.research.google.com/assets/colab-badge.svg\" alt=\"Open In Colab\"/></a>"
      ]
    },
    {
      "cell_type": "code",
      "execution_count": 5,
      "metadata": {
        "colab": {
          "base_uri": "https://localhost:8080/"
        },
        "id": "5EZn6MuZafGc",
        "outputId": "7a48d2e5-0440-4caf-af77-b590ab4c2aed"
      },
      "outputs": [
        {
          "output_type": "stream",
          "name": "stdout",
          "text": [
            "Create a Vector:  [1 2 3 4]\n",
            "\n",
            "\n",
            "Create a Matrix: \n",
            " [[1 2]\n",
            " [3 4]\n",
            " [5 6]]\n",
            "\n",
            "\n",
            "Create a Tensor:  tf.Tensor([[1 2]], shape=(1, 2), dtype=int32)\n",
            "\n",
            "\n"
          ]
        }
      ],
      "source": [
        "import numpy as np\n",
        "import tensorflow as tf\n",
        "\n",
        "x=np.array([1,2,3,4])\n",
        "print(\"Create a Vector: \",x)\n",
        "print(\"\\n\")\n",
        "\n",
        "A=np.array([[1,2],[3,4],[5,6]])\n",
        "print(\"Create a Matrix: \\n\",A)\n",
        "print(\"\\n\")\n",
        "\n",
        "tensor_A=tf.constant([[1,2]],dtype=tf.int32)\n",
        "print(\"Create a Tensor: \",tensor_A)\n",
        "print(\"\\n\")\n"
      ]
    },
    {
      "cell_type": "code",
      "source": [
        "A=np.array([[1,2],[3,4],[5,6]])\n",
        "print(\"A= \",A)\n",
        "print(\"\\n\")\n",
        "\n",
        "B=np.array([[2,5],[7,4],[4,3]])\n",
        "print(\"B= \",B)\n",
        "print(\"\\n\")\n",
        "\n",
        "C=A*B\n",
        "print(\"Multiplication of two Matrix: \\n\",C)\n",
        "print(\"\\n\")\n",
        "\n",
        "x=np.array([1,2,3,4])\n",
        "y=np.array([5,6,7,8])\n",
        "\n",
        "z=x*y\n",
        "print(\"Multiplication of two Vector: \",z)\n",
        "print(\"\\n\")\n",
        "\n",
        "tensor_A=tf.constant([[4,2]],dtype=tf.int32)\n",
        "print(\"A: \",tensor_A)\n",
        "\n",
        "tensor_B=tf.constant([[7,4]],dtype=tf.int32)\n",
        "print(\"B: \",tensor_B,\"\\n\")\n",
        "\n",
        "tensor_multiply=tf.multiply(tensor_A,tensor_B)\n",
        "print(\"Multiplication of two Tensor: \",tensor_multiply)\n",
        "print(\"\\n\")\n",
        "\n",
        "x=np.array([1,2,3,4])\n",
        "y=np.array([5,6,7,8])\n",
        "\n",
        "z=x+y\n",
        "print(\"Addition of two Matrix: \",z)\n",
        "print(\"\\n\")\n",
        "\n",
        "A=np.array([[1,2],[3,4],[5,6]])\n",
        "B=np.array([[2,5],[7,4],[4,3]])\n",
        "\n",
        "C=A*B\n",
        "print(\"Addition of two Vector: \\n\",C)\n",
        "print(\"\\n\")\n",
        "\n",
        "tensor_add=tf.add(tensor_A,tensor_B)\n",
        "print(\"Addition of two Tensor: \",tensor_add)\n",
        "print(\"\\n\")"
      ],
      "metadata": {
        "colab": {
          "base_uri": "https://localhost:8080/"
        },
        "id": "qHJoNVtpn0Ul",
        "outputId": "b1b23822-6508-458c-c571-d011bf701ed0"
      },
      "execution_count": 6,
      "outputs": [
        {
          "output_type": "stream",
          "name": "stdout",
          "text": [
            "A=  [[1 2]\n",
            " [3 4]\n",
            " [5 6]]\n",
            "\n",
            "\n",
            "B=  [[2 5]\n",
            " [7 4]\n",
            " [4 3]]\n",
            "\n",
            "\n",
            "Multiplication of two Matrix: \n",
            " [[ 2 10]\n",
            " [21 16]\n",
            " [20 18]]\n",
            "\n",
            "\n",
            "Multiplication of two Vector:  [ 5 12 21 32]\n",
            "\n",
            "\n",
            "A:  tf.Tensor([[4 2]], shape=(1, 2), dtype=int32)\n",
            "B:  tf.Tensor([[7 4]], shape=(1, 2), dtype=int32) \n",
            "\n",
            "Multiplication of two Tensor:  tf.Tensor([[28  8]], shape=(1, 2), dtype=int32)\n",
            "\n",
            "\n",
            "Addition of two Matrix:  [ 6  8 10 12]\n",
            "\n",
            "\n",
            "Addition of two Vector: \n",
            " [[ 2 10]\n",
            " [21 16]\n",
            " [20 18]]\n",
            "\n",
            "\n",
            "Addition of two Tensor:  tf.Tensor([[11  6]], shape=(1, 2), dtype=int32)\n",
            "\n",
            "\n"
          ]
        }
      ]
    },
    {
      "cell_type": "code",
      "source": [
        "x=np.array([1,2,3,7,3,5,2])\n",
        "y=np.array([[1],[3],[5],[7],[8],[8],[2]])\n",
        "c=x*y\n",
        "print(\"Multiplication of Vector and Matrix: \\n\",c)\n",
        "print(\"\\n\")\n",
        "\n",
        "U=[2,-3]\n",
        "V=[1,3]\n",
        "dotproduct=np.dot(U,V)\n",
        "print(\"Matrix dot product: \",dotproduct)\n",
        "print(\"\\n\")\n",
        "\n",
        "A=np.array([[6,1,1],\n",
        "            [4,-2,5],\n",
        "            [2,8,7]])\n",
        "print(\"Inverse of Matrix: \\n\",np.linalg.inv(A))\n",
        "print(\"\\n\")"
      ],
      "metadata": {
        "colab": {
          "base_uri": "https://localhost:8080/"
        },
        "id": "PjY2qhU2rfEQ",
        "outputId": "42208b62-0633-47ed-b7b9-49efb0110653"
      },
      "execution_count": 7,
      "outputs": [
        {
          "output_type": "stream",
          "name": "stdout",
          "text": [
            "Multiplication of Vector and Matrix: \n",
            " [[ 1  2  3  7  3  5  2]\n",
            " [ 3  6  9 21  9 15  6]\n",
            " [ 5 10 15 35 15 25 10]\n",
            " [ 7 14 21 49 21 35 14]\n",
            " [ 8 16 24 56 24 40 16]\n",
            " [ 8 16 24 56 24 40 16]\n",
            " [ 2  4  6 14  6 10  4]]\n",
            "\n",
            "\n",
            "Matrix dot product:  -7\n",
            "\n",
            "\n",
            "Inverse of Matrix: \n",
            " [[ 0.17647059 -0.00326797 -0.02287582]\n",
            " [ 0.05882353 -0.13071895  0.08496732]\n",
            " [-0.11764706  0.1503268   0.05228758]]\n",
            "\n",
            "\n"
          ]
        }
      ]
    }
  ]
}