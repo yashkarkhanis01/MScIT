{
  "nbformat": 4,
  "nbformat_minor": 0,
  "metadata": {
    "colab": {
      "provenance": [],
      "authorship_tag": "ABX9TyNf/i8aaY68HStPhiD1EiYm",
      "include_colab_link": true
    },
    "kernelspec": {
      "name": "python3",
      "display_name": "Python 3"
    },
    "language_info": {
      "name": "python"
    }
  },
  "cells": [
    {
      "cell_type": "markdown",
      "metadata": {
        "id": "view-in-github",
        "colab_type": "text"
      },
      "source": [
        "<a href=\"https://colab.research.google.com/github/mscitpract/DL/blob/main/Addition_of_two_Vector%2C_Matrix_and_Tensor.ipynb\" target=\"_parent\"><img src=\"https://colab.research.google.com/assets/colab-badge.svg\" alt=\"Open In Colab\"/></a>"
      ]
    },
    {
      "cell_type": "code",
      "execution_count": 1,
      "metadata": {
        "id": "ebWPb4SzUeTm"
      },
      "outputs": [],
      "source": [
        "import numpy as np\n",
        "import tensorflow as tf"
      ]
    },
    {
      "cell_type": "code",
      "source": [
        "# Addition of two vectors\n",
        "V1 = np.array([1,2,3,4])\n",
        "V2 = np.array([3,2,5,4])\n",
        "Vector_addition = V1+V2\n",
        "Vector_addition"
      ],
      "metadata": {
        "colab": {
          "base_uri": "https://localhost:8080/"
        },
        "id": "c3_GvRQDUkjC",
        "outputId": "76c648b4-45e9-4bce-907c-1f267619a06e"
      },
      "execution_count": 2,
      "outputs": [
        {
          "output_type": "execute_result",
          "data": {
            "text/plain": [
              "array([4, 4, 8, 8])"
            ]
          },
          "metadata": {},
          "execution_count": 2
        }
      ]
    },
    {
      "cell_type": "code",
      "source": [
        "# Addition of two matrix\n",
        "M1 = np.array([[1,2],[3,4],[5,6],[7,8]])\n",
        "M2 = np.array([[2,2],[4,4],[6,6],[7,8]])\n",
        "Matrix_addition = M1+M2\n",
        "Matrix_addition"
      ],
      "metadata": {
        "colab": {
          "base_uri": "https://localhost:8080/"
        },
        "id": "8w12xUO9U6sH",
        "outputId": "78a75fc0-4a4d-4365-c843-d21d759ef7b3"
      },
      "execution_count": 3,
      "outputs": [
        {
          "output_type": "execute_result",
          "data": {
            "text/plain": [
              "array([[ 3,  4],\n",
              "       [ 7,  8],\n",
              "       [11, 12],\n",
              "       [14, 16]])"
            ]
          },
          "metadata": {},
          "execution_count": 3
        }
      ]
    },
    {
      "cell_type": "code",
      "source": [
        "#Tensor Addition\n",
        "T1 = tf.constant([[1,2],[3,4],[5,6],[7,8]])\n",
        "T2 = tf.constant([[3,2],[5,4],[7,6],[9,8]])\n",
        "Tensor_addition = T1+T2\n",
        "Tensor_addition"
      ],
      "metadata": {
        "colab": {
          "base_uri": "https://localhost:8080/"
        },
        "id": "xRB3zGlIVXqE",
        "outputId": "3bd8a27b-3bbc-4abe-8ae6-9a2e162a98ae"
      },
      "execution_count": 4,
      "outputs": [
        {
          "output_type": "execute_result",
          "data": {
            "text/plain": [
              "<tf.Tensor: shape=(4, 2), dtype=int32, numpy=\n",
              "array([[ 4,  4],\n",
              "       [ 8,  8],\n",
              "       [12, 12],\n",
              "       [16, 16]], dtype=int32)>"
            ]
          },
          "metadata": {},
          "execution_count": 4
        }
      ]
    }
  ]
}