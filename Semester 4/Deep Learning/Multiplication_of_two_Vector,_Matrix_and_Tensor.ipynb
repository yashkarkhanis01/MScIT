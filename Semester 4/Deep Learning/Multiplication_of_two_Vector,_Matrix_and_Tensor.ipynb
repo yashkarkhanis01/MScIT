{
  "nbformat": 4,
  "nbformat_minor": 0,
  "metadata": {
    "colab": {
      "provenance": [],
      "authorship_tag": "ABX9TyMMvelY+4SU3ovbyH32wdvv",
      "include_colab_link": true
    },
    "kernelspec": {
      "name": "python3",
      "display_name": "Python 3"
    },
    "language_info": {
      "name": "python"
    }
  },
  "cells": [
    {
      "cell_type": "markdown",
      "metadata": {
        "id": "view-in-github",
        "colab_type": "text"
      },
      "source": [
        "<a href=\"https://colab.research.google.com/github/mscitpract/DL/blob/main/Multiplication_of_two_Vector%2C_Matrix_and_Tensor.ipynb\" target=\"_parent\"><img src=\"https://colab.research.google.com/assets/colab-badge.svg\" alt=\"Open In Colab\"/></a>"
      ]
    },
    {
      "cell_type": "code",
      "execution_count": 1,
      "metadata": {
        "id": "at-Fy7iXRtkQ"
      },
      "outputs": [],
      "source": [
        "import numpy as np\n",
        "import tensorflow as tf"
      ]
    },
    {
      "cell_type": "code",
      "source": [
        "#multiplication of two Matrix\n",
        "A = np.array([[1,2],[3,4],[5,6],[7,8]])\n",
        "B = np.array([[2,2],[4,4],[6,6],[7,8]])\n",
        "C = A*B\n",
        "C"
      ],
      "metadata": {
        "colab": {
          "base_uri": "https://localhost:8080/"
        },
        "id": "OfVZvlRnSUo-",
        "outputId": "591bbb89-a2e4-40f9-be6a-09e9475f77b9"
      },
      "execution_count": 3,
      "outputs": [
        {
          "output_type": "execute_result",
          "data": {
            "text/plain": [
              "array([[ 2,  4],\n",
              "       [12, 16],\n",
              "       [30, 36],\n",
              "       [49, 64]])"
            ]
          },
          "metadata": {},
          "execution_count": 3
        }
      ]
    },
    {
      "cell_type": "code",
      "source": [
        "#vector multiplication\n",
        "V1 = np.array([1,2,3,4])\n",
        "V2 = np.array([3,2,5,4])\n",
        "Vector_multiplication = V1*V2\n",
        "Vector_multiplication"
      ],
      "metadata": {
        "colab": {
          "base_uri": "https://localhost:8080/"
        },
        "id": "JMwejA3pSzDp",
        "outputId": "31c4bc4e-a029-4cf0-ead9-6698e92a1312"
      },
      "execution_count": 4,
      "outputs": [
        {
          "output_type": "execute_result",
          "data": {
            "text/plain": [
              "array([ 3,  4, 15, 16])"
            ]
          },
          "metadata": {},
          "execution_count": 4
        }
      ]
    },
    {
      "cell_type": "code",
      "source": [
        "#Tensor multiplication\n",
        "T1 = tf.constant([[1,2],[3,4],[5,6],[7,8]])\n",
        "T2 = tf.constant([[3,2],[5,4],[7,6],[9,8]])\n",
        "Tensor_multiplication = T1*T2\n",
        "Tensor_multiplication"
      ],
      "metadata": {
        "colab": {
          "base_uri": "https://localhost:8080/"
        },
        "id": "v-GwtX0HTfe2",
        "outputId": "f4ae3a58-f5f1-4b7e-9fd7-62f435e43bd9"
      },
      "execution_count": 5,
      "outputs": [
        {
          "output_type": "execute_result",
          "data": {
            "text/plain": [
              "<tf.Tensor: shape=(4, 2), dtype=int32, numpy=\n",
              "array([[ 3,  4],\n",
              "       [15, 16],\n",
              "       [35, 36],\n",
              "       [63, 64]], dtype=int32)>"
            ]
          },
          "metadata": {},
          "execution_count": 5
        }
      ]
    }
  ]
}