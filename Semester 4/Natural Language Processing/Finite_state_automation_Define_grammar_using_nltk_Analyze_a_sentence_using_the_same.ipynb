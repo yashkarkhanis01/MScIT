{
  "nbformat": 4,
  "nbformat_minor": 0,
  "metadata": {
    "colab": {
      "provenance": [],
      "authorship_tag": "ABX9TyMfWsgjovoHyYQOF6L54SV8",
      "include_colab_link": true
    },
    "kernelspec": {
      "name": "python3",
      "display_name": "Python 3"
    },
    "language_info": {
      "name": "python"
    }
  },
  "cells": [
    {
      "cell_type": "markdown",
      "metadata": {
        "id": "view-in-github",
        "colab_type": "text"
      },
      "source": [
        "<a href=\"https://colab.research.google.com/github/mscitpract/nlp/blob/main/Finite_state_automation_Define_grammar_using_nltk_Analyze_a_sentence_using_the_same.ipynb\" target=\"_parent\"><img src=\"https://colab.research.google.com/assets/colab-badge.svg\" alt=\"Open In Colab\"/></a>"
      ]
    },
    {
      "cell_type": "code",
      "execution_count": 1,
      "metadata": {
        "colab": {
          "base_uri": "https://localhost:8080/"
        },
        "id": "F9boWO7eO7IU",
        "outputId": "59243fd6-1e84-4a4c-b7af-632f704205c5"
      },
      "outputs": [
        {
          "output_type": "stream",
          "name": "stdout",
          "text": [
            "(S\n",
            "  (NP I)\n",
            "  (VP\n",
            "    (VP (V shot) (NP (Det an) (N elephant)))\n",
            "    (PP (P in) (NP (Det my) (N backyard)))))\n",
            "(S\n",
            "  (NP I)\n",
            "  (VP\n",
            "    (V shot)\n",
            "    (NP (Det an) (N elephant) (PP (P in) (NP (Det my) (N backyard))))))\n",
            "     S                                    \n",
            "  ___|__________                           \n",
            " |              VP                        \n",
            " |    __________|______                    \n",
            " |   |                 NP                 \n",
            " |   |     ____________|___                \n",
            " |   |    |     |          PP             \n",
            " |   |    |     |       ___|___            \n",
            " |   |    |     |      |       NP         \n",
            " |   |    |     |      |    ___|_____      \n",
            " NP  V   Det    N      P  Det        N    \n",
            " |   |    |     |      |   |         |     \n",
            " I  shot  an elephant  in  my     backyard\n",
            "\n"
          ]
        }
      ],
      "source": [
        "import nltk\n",
        "from nltk import tokenize\n",
        "groucho_grammar = nltk.CFG.fromstring(\"\"\"\n",
        "  S -> NP VP\n",
        "  PP -> P NP\n",
        "  NP -> Det N | Det N PP | 'I'\n",
        "  VP -> V NP | VP PP\n",
        "  Det -> 'an' | 'my'\n",
        "  N -> 'elephant' | 'backyard'\n",
        "  V -> 'shot'\n",
        "  P -> 'in'\n",
        "  \"\"\")\n",
        "sent = ['I', 'shot', 'an', 'elephant', 'in', 'my', 'backyard']\n",
        "parser = nltk.ChartParser(groucho_grammar)\n",
        "for tree in parser.parse(sent):\n",
        "    print(tree)\n",
        "tree.pretty_print()"
      ]
    }
  ]
}