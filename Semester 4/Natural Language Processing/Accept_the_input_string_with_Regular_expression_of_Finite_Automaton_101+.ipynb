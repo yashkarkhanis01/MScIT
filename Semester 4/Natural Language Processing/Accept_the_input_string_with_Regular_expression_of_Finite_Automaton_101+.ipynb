{
  "nbformat": 4,
  "nbformat_minor": 0,
  "metadata": {
    "colab": {
      "provenance": [],
      "authorship_tag": "ABX9TyM+UX8vW+53RbWECFOHFqBg",
      "include_colab_link": true
    },
    "kernelspec": {
      "name": "python3",
      "display_name": "Python 3"
    },
    "language_info": {
      "name": "python"
    }
  },
  "cells": [
    {
      "cell_type": "markdown",
      "metadata": {
        "id": "view-in-github",
        "colab_type": "text"
      },
      "source": [
        "<a href=\"https://colab.research.google.com/github/mscitpract/nlp/blob/main/Accept_the_input_string_with_Regular_expression_of_Finite_Automaton_101%2B.ipynb\" target=\"_parent\"><img src=\"https://colab.research.google.com/assets/colab-badge.svg\" alt=\"Open In Colab\"/></a>"
      ]
    },
    {
      "cell_type": "code",
      "execution_count": 1,
      "metadata": {
        "colab": {
          "base_uri": "https://localhost:8080/"
        },
        "id": "90g-eCYNPZhd",
        "outputId": "7fdec9be-0e9a-4acd-bcd0-b570310acd5e"
      },
      "outputs": [
        {
          "output_type": "stream",
          "name": "stdout",
          "text": [
            "Rejected\n",
            "Rejected\n",
            "Accepted\n",
            "Accepted\n",
            "Rejected\n",
            "Rejected\n",
            "Rejected\n",
            "Rejected\n",
            "Rejected\n",
            "Accepted\n"
          ]
        }
      ],
      "source": [
        "def FA(s):\n",
        "    #if the length is less than 3 then it can't be accepted, Therefore end the process.\n",
        "    if len(s)<3:\n",
        "        return \"Rejected\"\n",
        "#first three characters are fixed. Therefore, checking them using index\n",
        "    if s[0]=='1':\n",
        "        if s[1]=='0':\n",
        "            if s[2]=='1':\n",
        "# After index 2 only \"1\" can appear. Therefore break the process if any other character is detected\n",
        "                for i in range(3,len(s)):\n",
        "                    if s[i]!='1':\n",
        "                        return \"Rejected\"\n",
        "                return \"Accepted\" # if all 4 nested if true\n",
        "            return \"Rejected\" # else of 3rd if\n",
        "        return \"Rejected\" # else of 2nd if\n",
        "    return \"Rejected\" # else of 1st if\n",
        "inputs=['1','10101','101','10111','01010','100','010','','10111101','1011111']\n",
        "for i in inputs:\n",
        "    print(FA(i))"
      ]
    }
  ]
}