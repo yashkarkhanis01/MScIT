{
  "nbformat": 4,
  "nbformat_minor": 0,
  "metadata": {
    "colab": {
      "provenance": [],
      "authorship_tag": "ABX9TyNpPDCaKS9YZkceIp9hzn2u",
      "include_colab_link": true
    },
    "kernelspec": {
      "name": "python3",
      "display_name": "Python 3"
    },
    "language_info": {
      "name": "python"
    }
  },
  "cells": [
    {
      "cell_type": "markdown",
      "metadata": {
        "id": "view-in-github",
        "colab_type": "text"
      },
      "source": [
        "<a href=\"https://colab.research.google.com/github/mscitpract/nlp/blob/main/Write_a_program_using_python_to_find_synonym_and_antonym_of_word_%22active%22_using_Wordnet.ipynb\" target=\"_parent\"><img src=\"https://colab.research.google.com/assets/colab-badge.svg\" alt=\"Open In Colab\"/></a>"
      ]
    },
    {
      "cell_type": "code",
      "execution_count": 1,
      "metadata": {
        "colab": {
          "base_uri": "https://localhost:8080/"
        },
        "id": "Or3aGN9UttVM",
        "outputId": "dde289fc-9f0a-47e2-a59a-6cf588580855"
      },
      "outputs": [
        {
          "output_type": "stream",
          "name": "stderr",
          "text": [
            "[nltk_data] Downloading package omw-1.4 to /root/nltk_data...\n",
            "[nltk_data] Downloading package wordnet to /root/nltk_data...\n"
          ]
        },
        {
          "output_type": "stream",
          "name": "stdout",
          "text": [
            "Enter the word:-Active\n",
            "Synonyms of Active: {'combat-ready', 'participating', 'fighting', 'active_agent', 'alive', 'active_voice', 'dynamic', 'active'}\n",
            "Antonyms of Active: {'dormant', 'stative', 'inactive', 'extinct', 'passive', 'quiet', 'passive_voice'}\n"
          ]
        }
      ],
      "source": [
        "import nltk\n",
        "from nltk.corpus import wordnet\n",
        "nltk.download('omw-1.4')\n",
        "\n",
        "def get_synonyms_antonyms(word):\n",
        "    synonyms = []\n",
        "    antonyms = []\n",
        "\n",
        "    for syn in wordnet.synsets(word):\n",
        "        for lemma in syn.lemmas():\n",
        "            synonyms.append(lemma.name())\n",
        "            if lemma.antonyms():\n",
        "                antonyms.append(lemma.antonyms()[0].name())\n",
        "\n",
        "    return set(synonyms), set(antonyms)\n",
        "\n",
        "def main():\n",
        "    word = input(\"Enter the word:-\")\n",
        "    synonyms, antonyms = get_synonyms_antonyms(word)\n",
        "\n",
        "    print(\"Synonyms of\", word + \":\", synonyms)\n",
        "    print(\"Antonyms of\", word + \":\", antonyms)\n",
        "\n",
        "if __name__ == \"__main__\":\n",
        "    nltk.download('wordnet')\n",
        "    main()"
      ]
    }
  ]
}