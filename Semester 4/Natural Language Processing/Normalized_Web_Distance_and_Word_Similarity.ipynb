{
  "nbformat": 4,
  "nbformat_minor": 0,
  "metadata": {
    "colab": {
      "provenance": [],
      "authorship_tag": "ABX9TyNVwb0nA9KCU2SYBGbp+Efs",
      "include_colab_link": true
    },
    "kernelspec": {
      "name": "python3",
      "display_name": "Python 3"
    },
    "language_info": {
      "name": "python"
    }
  },
  "cells": [
    {
      "cell_type": "markdown",
      "metadata": {
        "id": "view-in-github",
        "colab_type": "text"
      },
      "source": [
        "<a href=\"https://colab.research.google.com/github/mscitpract/nlp/blob/main/Normalized_Web_Distance_and_Word_Similarity.ipynb\" target=\"_parent\"><img src=\"https://colab.research.google.com/assets/colab-badge.svg\" alt=\"Open In Colab\"/></a>"
      ]
    },
    {
      "cell_type": "code",
      "source": [
        "!pip install textdistance"
      ],
      "metadata": {
        "colab": {
          "base_uri": "https://localhost:8080/"
        },
        "id": "jVtso3-gW-OZ",
        "outputId": "b970e43d-4acc-448a-a119-7bf125322660"
      },
      "execution_count": 2,
      "outputs": [
        {
          "output_type": "stream",
          "name": "stdout",
          "text": [
            "Collecting textdistance\n",
            "  Downloading textdistance-4.6.3-py3-none-any.whl.metadata (18 kB)\n",
            "Downloading textdistance-4.6.3-py3-none-any.whl (31 kB)\n",
            "Installing collected packages: textdistance\n",
            "Successfully installed textdistance-4.6.3\n"
          ]
        }
      ]
    },
    {
      "cell_type": "code",
      "execution_count": 3,
      "metadata": {
        "colab": {
          "base_uri": "https://localhost:8080/"
        },
        "id": "hJizyiaHWjC7",
        "outputId": "e757e1a4-44f2-4172-f2d3-3a2481588ddf"
      },
      "outputs": [
        {
          "output_type": "stream",
          "name": "stdout",
          "text": [
            "['reliance', 'reliance', 'reliance', 'reliance', 'reliance', 'reliance', 'mumbai', 'mumbai', 'mumbai', 'mumbai', 'km trading', 'km trading', 'km trading', 'km trading', 'km trading']\n"
          ]
        },
        {
          "output_type": "stream",
          "name": "stderr",
          "text": [
            "/usr/local/lib/python3.10/dist-packages/sklearn/cluster/_agglomerative.py:1006: FutureWarning: Attribute `affinity` was deprecated in version 1.2 and will be removed in 1.4. Use `metric` instead\n",
            "  warnings.warn(\n"
          ]
        }
      ],
      "source": [
        "import numpy as np\n",
        "import re\n",
        "import textdistance\n",
        "# we will need scikit-learn>=0.21\n",
        "import sklearn  # pip install sklearn\n",
        "from sklearn.cluster import AgglomerativeClustering\n",
        "\n",
        "texts = [\n",
        "    'Reliance supermarket', 'Reliance hypermarket', 'Reliance', 'Reliance',\n",
        "    'Reliance downtown', 'Reliance market', 'Mumbai', 'Mumbai Hyper',\n",
        "    'Mumbai dxb', 'mumbai airport', 'k.m trading', 'KM Trading',\n",
        "    'KM trade', 'K.M. Trading', 'KM.Trading'\n",
        "]\n",
        "\n",
        "def normalize(text):\n",
        "    \"\"\" Keep only lower-cased text and numbers\"\"\"\n",
        "    return re.sub('[^a-z0-9]+', ' ', text.lower())\n",
        "\n",
        "def group_texts(texts, threshold=0.4):\n",
        "    \"\"\" Replace each text with the representative of its cluster\"\"\"\n",
        "    normalized_texts = np.array([normalize(text) for text in texts])\n",
        "    distances = 1 - np.array([\n",
        "        [textdistance.jaro_winkler(one, another) for one in normalized_texts]\n",
        "        for another in normalized_texts\n",
        "    ])\n",
        "    clustering = AgglomerativeClustering(\n",
        "        distance_threshold=threshold,  # this parameter needs to be tuned carefully\n",
        "        affinity=\"precomputed\", linkage=\"complete\", n_clusters=None\n",
        "    ).fit(distances)\n",
        "\n",
        "    # clustering = AgglomerativeClustering(\n",
        "    #     distance_threshold=threshold,  # this parameter needs to be tuned carefully\n",
        "    #     metric=\"precomputed\", linkage=\"complete\", n_clusters=None\n",
        "    # ).fit(distances)   ## Use this if above line is not working\n",
        "\n",
        "    centers = dict()\n",
        "    for cluster_id in set(clustering.labels_):\n",
        "        index = clustering.labels_ == cluster_id\n",
        "        centrality = distances[:, index][index].sum(axis=1)\n",
        "        centers[cluster_id] = normalized_texts[index][centrality.argmin()]\n",
        "\n",
        "    return [centers[i] for i in clustering.labels_]\n",
        "\n",
        "print(group_texts(texts))"
      ]
    }
  ]
}