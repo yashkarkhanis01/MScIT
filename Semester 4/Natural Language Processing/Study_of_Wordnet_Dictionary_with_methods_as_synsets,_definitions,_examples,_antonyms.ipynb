{
  "nbformat": 4,
  "nbformat_minor": 0,
  "metadata": {
    "colab": {
      "provenance": [],
      "authorship_tag": "ABX9TyPWmf4viPwYyYQ2Q7dp8nrc",
      "include_colab_link": true
    },
    "kernelspec": {
      "name": "python3",
      "display_name": "Python 3"
    },
    "language_info": {
      "name": "python"
    }
  },
  "cells": [
    {
      "cell_type": "markdown",
      "metadata": {
        "id": "view-in-github",
        "colab_type": "text"
      },
      "source": [
        "<a href=\"https://colab.research.google.com/github/mscitpract/nlp/blob/main/Study_of_Wordnet_Dictionary_with_methods_as_synsets%2C_definitions%2C_examples%2C_antonyms.ipynb\" target=\"_parent\"><img src=\"https://colab.research.google.com/assets/colab-badge.svg\" alt=\"Open In Colab\"/></a>"
      ]
    },
    {
      "cell_type": "code",
      "execution_count": 1,
      "metadata": {
        "colab": {
          "base_uri": "https://localhost:8080/"
        },
        "id": "RaYZxaRyscKl",
        "outputId": "065e3556-4596-4387-aedd-0906dbe8d62b"
      },
      "outputs": [
        {
          "output_type": "stream",
          "name": "stderr",
          "text": [
            "[nltk_data] Downloading package wordnet to /root/nltk_data...\n"
          ]
        },
        {
          "output_type": "stream",
          "name": "stdout",
          "text": [
            "[Synset('computer.n.01'), Synset('calculator.n.01')]\n",
            "a machine for performing calculations automatically\n",
            "a machine for performing calculations automatically\n",
            "Examples: []\n",
            "[Lemma('sell.v.01.sell')]\n"
          ]
        }
      ],
      "source": [
        "import nltk\n",
        "nltk.download('wordnet')\n",
        "\n",
        "from nltk.corpus import wordnet\n",
        "print(wordnet.synsets(\"computer\"))\n",
        "\n",
        "print(wordnet.synset(\"computer.n.01\").definition())\n",
        "\n",
        "print(wordnet.synset(\"computer.n.01\").definition())\n",
        "\n",
        "print(\"Examples:\", wordnet.synset(\"computer.n.01\").examples())\n",
        "\n",
        "print(wordnet.lemma('buy.v.01.buy').antonyms())"
      ]
    }
  ]
}