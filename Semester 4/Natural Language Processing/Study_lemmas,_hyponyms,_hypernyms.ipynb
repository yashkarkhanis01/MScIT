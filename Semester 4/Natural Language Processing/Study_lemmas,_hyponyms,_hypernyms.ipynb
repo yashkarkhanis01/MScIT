{
  "nbformat": 4,
  "nbformat_minor": 0,
  "metadata": {
    "colab": {
      "provenance": [],
      "authorship_tag": "ABX9TyMtG6owEyDr/GjlS8oXb7UU",
      "include_colab_link": true
    },
    "kernelspec": {
      "name": "python3",
      "display_name": "Python 3"
    },
    "language_info": {
      "name": "python"
    }
  },
  "cells": [
    {
      "cell_type": "markdown",
      "metadata": {
        "id": "view-in-github",
        "colab_type": "text"
      },
      "source": [
        "<a href=\"https://colab.research.google.com/github/mscitpract/nlp/blob/main/Study_lemmas%2C_hyponyms%2C_hypernyms.ipynb\" target=\"_parent\"><img src=\"https://colab.research.google.com/assets/colab-badge.svg\" alt=\"Open In Colab\"/></a>"
      ]
    },
    {
      "cell_type": "code",
      "source": [
        "# NLP 3B Study lemmas, hyponyms, hypernyms.\n",
        "\n",
        "# Import necessary libraries\n",
        "import nltk\n",
        "from nltk.corpus import wordnet\n",
        "\n",
        "# Download WordNet (if not already downloaded)\n",
        "nltk.download('wordnet')\n",
        "\n",
        "# Exploring Lemmas\n",
        "print(\"\\n**Lemmas**\")\n",
        "synsets = wordnet.synsets(\"computer\")\n",
        "print(\"  * Synsets and Lemmas:\")\n",
        "for synset in synsets:\n",
        "    lemma_names = [lemma.name() for lemma in synset.lemmas()]\n",
        "    print(f\"      - Synset: {synset} --> Lemmas: {lemma_names}\")\n",
        "\n",
        "# Exploring Hyponyms\n",
        "print(\"\\n**Hyponyms**\")\n",
        "computer_synset = wordnet.synset(\"computer.n.01\")\n",
        "hyponyms = computer_synset.hyponyms()\n",
        "print(\"  * Hyponyms of 'computer.n.01':\")\n",
        "for synset in hyponyms:\n",
        "    lemma_names = [lemma.name() for lemma in synset.lemmas()]\n",
        "    print(f\"      - Synset: {synset} --> Lemmas: {lemma_names}\")\n",
        "\n",
        "# Exploring Hypernyms\n",
        "print(\"\\n**Hypernyms**\")\n",
        "vehicle_synset = wordnet.synset(\"vehicle.n.01\")\n",
        "car_synset = wordnet.synset(\"car.n.01\")\n",
        "lowest_common_hypernym = car_synset.lowest_common_hypernyms(vehicle_synset)\n",
        "print(f\"  * Lowest common hypernym of 'vehicle' and 'car': {lowest_common_hypernym[0]}\")"
      ],
      "metadata": {
        "colab": {
          "base_uri": "https://localhost:8080/"
        },
        "id": "ahAtA3CWtDWq",
        "outputId": "8d4bcc7c-1961-419a-823f-bc343af16c1a"
      },
      "execution_count": 2,
      "outputs": [
        {
          "output_type": "stream",
          "name": "stdout",
          "text": [
            "\n",
            "**Lemmas**\n",
            "  * Synsets and Lemmas:\n",
            "      - Synset: Synset('computer.n.01') --> Lemmas: ['computer', 'computing_machine', 'computing_device', 'data_processor', 'electronic_computer', 'information_processing_system']\n",
            "      - Synset: Synset('calculator.n.01') --> Lemmas: ['calculator', 'reckoner', 'figurer', 'estimator', 'computer']\n",
            "\n",
            "**Hyponyms**\n",
            "  * Hyponyms of 'computer.n.01':\n",
            "      - Synset: Synset('analog_computer.n.01') --> Lemmas: ['analog_computer', 'analogue_computer']\n",
            "      - Synset: Synset('digital_computer.n.01') --> Lemmas: ['digital_computer']\n",
            "      - Synset: Synset('home_computer.n.01') --> Lemmas: ['home_computer']\n",
            "      - Synset: Synset('node.n.08') --> Lemmas: ['node', 'client', 'guest']\n",
            "      - Synset: Synset('number_cruncher.n.02') --> Lemmas: ['number_cruncher']\n",
            "      - Synset: Synset('pari-mutuel_machine.n.01') --> Lemmas: ['pari-mutuel_machine', 'totalizer', 'totaliser', 'totalizator', 'totalisator']\n",
            "      - Synset: Synset('predictor.n.03') --> Lemmas: ['predictor']\n",
            "      - Synset: Synset('server.n.03') --> Lemmas: ['server', 'host']\n",
            "      - Synset: Synset('turing_machine.n.01') --> Lemmas: ['Turing_machine']\n",
            "      - Synset: Synset('web_site.n.01') --> Lemmas: ['web_site', 'website', 'internet_site', 'site']\n",
            "\n",
            "**Hypernyms**\n",
            "  * Lowest common hypernym of 'vehicle' and 'car': Synset('vehicle.n.01')\n"
          ]
        },
        {
          "output_type": "stream",
          "name": "stderr",
          "text": [
            "[nltk_data] Downloading package wordnet to /root/nltk_data...\n",
            "[nltk_data]   Package wordnet is already up-to-date!\n"
          ]
        }
      ]
    }
  ]
}