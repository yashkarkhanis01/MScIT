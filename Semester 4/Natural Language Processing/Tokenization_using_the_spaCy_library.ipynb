{
  "nbformat": 4,
  "nbformat_minor": 0,
  "metadata": {
    "colab": {
      "provenance": [],
      "authorship_tag": "ABX9TyOO4qWmAaLkSle15eny5h4D",
      "include_colab_link": true
    },
    "kernelspec": {
      "name": "python3",
      "display_name": "Python 3"
    },
    "language_info": {
      "name": "python"
    }
  },
  "cells": [
    {
      "cell_type": "markdown",
      "metadata": {
        "id": "view-in-github",
        "colab_type": "text"
      },
      "source": [
        "<a href=\"https://colab.research.google.com/github/mscitpract/nlp/blob/main/Tokenization_using_the_spaCy_library.ipynb\" target=\"_parent\"><img src=\"https://colab.research.google.com/assets/colab-badge.svg\" alt=\"Open In Colab\"/></a>"
      ]
    },
    {
      "cell_type": "code",
      "execution_count": 1,
      "metadata": {
        "colab": {
          "base_uri": "https://localhost:8080/"
        },
        "id": "7SrvTW7H6Jez",
        "outputId": "ea1abbf1-bb8c-42d3-9034-3d6f02576751"
      },
      "outputs": [
        {
          "output_type": "stream",
          "name": "stdout",
          "text": [
            "============================================================\n",
            "4d. Tokenization using the spaCy library\n",
            "----------\n",
            "Tokens: ['Hello', '!', 'My', 'name', 'is', 'Yash', 'Karkhanis', 'I', 'live', 'in', 'Lonavala']\n",
            "============================================================\n"
          ]
        }
      ],
      "source": [
        "import spacy\n",
        "\n",
        "# Load the English language model\n",
        "nlp = spacy.blank(\"en\")\n",
        "\n",
        "# Text to be tokenized\n",
        "text = \"Hello ! My name is Yash Karkhanis I live in Lonavala\"\n",
        "\n",
        "# Process the text with SpaCy\n",
        "doc = nlp(text)\n",
        "\n",
        "# Extract tokens\n",
        "tokens = [token.text for token in doc]\n",
        "\n",
        "# Print tokens\n",
        "print(\"=\"*60)\n",
        "print(\"4d. Tokenization using the spaCy library\")\n",
        "print(\"-\"*10)\n",
        "print(\"Tokens:\", tokens)\n",
        "print(\"=\"*60)"
      ]
    }
  ]
}