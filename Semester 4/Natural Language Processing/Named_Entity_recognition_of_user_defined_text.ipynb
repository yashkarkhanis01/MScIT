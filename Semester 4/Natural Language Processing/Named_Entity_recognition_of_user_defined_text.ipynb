{
  "nbformat": 4,
  "nbformat_minor": 0,
  "metadata": {
    "colab": {
      "provenance": [],
      "authorship_tag": "ABX9TyMJb9fe4RYy1PQp9Bb8z4EM",
      "include_colab_link": true
    },
    "kernelspec": {
      "name": "python3",
      "display_name": "Python 3"
    },
    "language_info": {
      "name": "python"
    }
  },
  "cells": [
    {
      "cell_type": "markdown",
      "metadata": {
        "id": "view-in-github",
        "colab_type": "text"
      },
      "source": [
        "<a href=\"https://colab.research.google.com/github/mscitpract/nlp/blob/main/Named_Entity_recognition_of_user_defined_text.ipynb\" target=\"_parent\"><img src=\"https://colab.research.google.com/assets/colab-badge.svg\" alt=\"Open In Colab\"/></a>"
      ]
    },
    {
      "cell_type": "code",
      "execution_count": 1,
      "metadata": {
        "colab": {
          "base_uri": "https://localhost:8080/"
        },
        "id": "SMJCKUBxAkdv",
        "outputId": "b296ba19-9bc6-4a17-e0eb-2797a7395f77"
      },
      "outputs": [
        {
          "output_type": "stream",
          "name": "stdout",
          "text": [
            "Noun phrases: ['Education', 'stability', 'life', 'it', 'something', 'that', 'no one', 'you', 'a college degree', 'you', 'your chances', 'better career opportunities', 'new doors', 'yourself']\n",
            "Verbs: ['provide', 'take', 'educate', 'hold', 'increase', 'open']\n"
          ]
        }
      ],
      "source": [
        "#!pip install -U spacy\n",
        "#!python -m spacy download en_core_web_sm import spacy\n",
        "import spacy\n",
        "# Load English tokenizer, tagger, parser and NER\n",
        "nlp = spacy.load(\"en_core_web_sm\")\n",
        "\n",
        "# Process whole documents\n",
        "text = (\"Education provides stability in life,\" \"and it's something that no one can ever take away from you.\" \"By being well-educated and holding a college degree, you increase your chances for better career opportunities and open up new doors for yourself.\" )\n",
        "doc = nlp(text)\n",
        "\n",
        "# Analyse syntax\n",
        "print(\"Noun phrases:\", [chunk.text for chunk in doc.noun_chunks])\n",
        "print(\"Verbs:\", [token.lemma_ for token in doc if token.pos_ == \"VERB\"])\n"
      ]
    }
  ]
}