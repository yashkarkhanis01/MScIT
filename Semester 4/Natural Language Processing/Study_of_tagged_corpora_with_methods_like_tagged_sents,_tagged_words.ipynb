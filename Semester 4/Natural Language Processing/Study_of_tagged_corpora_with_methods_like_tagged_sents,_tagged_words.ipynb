{
  "nbformat": 4,
  "nbformat_minor": 0,
  "metadata": {
    "colab": {
      "provenance": [],
      "authorship_tag": "ABX9TyOf6c/BIPYfpHR9ovRbGnqi",
      "include_colab_link": true
    },
    "kernelspec": {
      "name": "python3",
      "display_name": "Python 3"
    },
    "language_info": {
      "name": "python"
    }
  },
  "cells": [
    {
      "cell_type": "markdown",
      "metadata": {
        "id": "view-in-github",
        "colab_type": "text"
      },
      "source": [
        "<a href=\"https://colab.research.google.com/github/mscitpract/nlp/blob/main/Study_of_tagged_corpora_with_methods_like_tagged_sents%2C_tagged_words.ipynb\" target=\"_parent\"><img src=\"https://colab.research.google.com/assets/colab-badge.svg\" alt=\"Open In Colab\"/></a>"
      ]
    },
    {
      "cell_type": "code",
      "execution_count": 2,
      "metadata": {
        "colab": {
          "base_uri": "https://localhost:8080/"
        },
        "id": "yLArngWLo6Bt",
        "outputId": "a3af9b0d-2ef8-4536-d3d3-0c2ae15b8c06"
      },
      "outputs": [
        {
          "output_type": "stream",
          "name": "stdout",
          "text": [
            "n\\sentence tokenization\n",
            "=============\n",
            " ['Hello!', \"I'm Yash the great.\"]\n",
            "\n",
            "word tokenization\n",
            "============\n",
            "\n",
            "['Hello', '!']\n",
            "['I', \"'m\", 'Yash', 'the', 'great', '.']\n"
          ]
        },
        {
          "output_type": "stream",
          "name": "stderr",
          "text": [
            "[nltk_data] Downloading package punkt to /root/nltk_data...\n",
            "[nltk_data]   Package punkt is already up-to-date!\n",
            "[nltk_data] Downloading package words to /root/nltk_data...\n",
            "[nltk_data]   Package words is already up-to-date!\n"
          ]
        }
      ],
      "source": [
        "import nltk\n",
        "from nltk import tokenize\n",
        "nltk.download('punkt')\n",
        "nltk.download('words')\n",
        "\n",
        "para = \"Hello! I'm Yash the great.\"\n",
        "sents = tokenize.sent_tokenize(para)\n",
        "print(\"n\\sentence tokenization\\n=============\\n\", sents)\n",
        "\n",
        "print(\"\\nword tokenization\\n============\\n\")\n",
        "\n",
        "for index in range(len(sents)):\n",
        "  word = tokenize.word_tokenize(sents[index])\n",
        "  print(word)"
      ]
    }
  ]
}