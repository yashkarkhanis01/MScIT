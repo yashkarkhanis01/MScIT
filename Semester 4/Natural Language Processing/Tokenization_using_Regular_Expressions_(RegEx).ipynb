{
  "nbformat": 4,
  "nbformat_minor": 0,
  "metadata": {
    "colab": {
      "provenance": [],
      "authorship_tag": "ABX9TyOU5OENreKfrY7lIM/LRfIT",
      "include_colab_link": true
    },
    "kernelspec": {
      "name": "python3",
      "display_name": "Python 3"
    },
    "language_info": {
      "name": "python"
    }
  },
  "cells": [
    {
      "cell_type": "markdown",
      "metadata": {
        "id": "view-in-github",
        "colab_type": "text"
      },
      "source": [
        "<a href=\"https://colab.research.google.com/github/mscitpract/nlp/blob/main/Tokenization_using_Regular_Expressions_(RegEx).ipynb\" target=\"_parent\"><img src=\"https://colab.research.google.com/assets/colab-badge.svg\" alt=\"Open In Colab\"/></a>"
      ]
    },
    {
      "cell_type": "code",
      "execution_count": 2,
      "metadata": {
        "colab": {
          "base_uri": "https://localhost:8080/"
        },
        "id": "9JROzLnv4ptl",
        "outputId": "eec1a1a9-571e-4f27-d2df-97532a59b5a0"
      },
      "outputs": [
        {
          "output_type": "stream",
          "name": "stdout",
          "text": [
            "============================================================\n",
            "Tokenization using Regular Expressions (RegEx)\n",
            "----------\n",
            "Tokens: ['Hello', '!', 'My', 'name', 'is', 'Yash', 'Karkhanis', 'I', 'live', 'in', 'Lonavala']\n",
            "============================================================\n"
          ]
        }
      ],
      "source": [
        "import re\n",
        "\n",
        "# Sample text to tokenize\n",
        "text = \"Hello ! My name is Yash Karkhanis I live in Lonavala\"\n",
        "\n",
        "# Define the regex pattern for tokenization (splitting by whitespace)\n",
        "pattern = r'\\s+'\n",
        "\n",
        "# Tokenizing the text using re.split()\n",
        "tokens = re.split(pattern, text)\n",
        "\n",
        "# Printing the tokens\n",
        "print(\"=\"*60)\n",
        "print(\"Tokenization using Regular Expressions (RegEx)\")\n",
        "print(\"-\"*10)\n",
        "print(\"Tokens:\", tokens)\n",
        "print(\"=\"*60)"
      ]
    }
  ]
}