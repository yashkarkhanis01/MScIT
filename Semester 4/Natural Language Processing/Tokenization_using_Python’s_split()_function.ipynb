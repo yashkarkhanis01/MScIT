{
  "nbformat": 4,
  "nbformat_minor": 0,
  "metadata": {
    "colab": {
      "provenance": [],
      "authorship_tag": "ABX9TyNQPeDgkphQfIX3RgAtsxR0",
      "include_colab_link": true
    },
    "kernelspec": {
      "name": "python3",
      "display_name": "Python 3"
    },
    "language_info": {
      "name": "python"
    }
  },
  "cells": [
    {
      "cell_type": "markdown",
      "metadata": {
        "id": "view-in-github",
        "colab_type": "text"
      },
      "source": [
        "<a href=\"https://colab.research.google.com/github/mscitpract/nlp/blob/main/Tokenization_using_Python%E2%80%99s_split()_function.ipynb\" target=\"_parent\"><img src=\"https://colab.research.google.com/assets/colab-badge.svg\" alt=\"Open In Colab\"/></a>"
      ]
    },
    {
      "cell_type": "code",
      "execution_count": 4,
      "metadata": {
        "colab": {
          "base_uri": "https://localhost:8080/"
        },
        "id": "eDfl7mFdu9AI",
        "outputId": "b19ddb5d-abc8-4ad0-e798-74504706a8b5"
      },
      "outputs": [
        {
          "output_type": "stream",
          "name": "stdout",
          "text": [
            "Tokenization using Python’s split() function is: Would I rather be feared or loved\n",
            "Tokenization using Python’s split() function is: Easy\n",
            "Tokenization using Python’s split() function is: Both\n",
            "Tokenization using Python’s split() function is: I want people to be afraid of how much they love me\n",
            "Tokenization using Python’s split() function is: \n"
          ]
        }
      ],
      "source": [
        "text = \"\"\"Would I rather be feared or loved? Easy. Both. I want people to be afraid of how much they love me.\"\"\"\n",
        "\n",
        "# First split by period\n",
        "data = text.split('.')\n",
        "data = [item.split('?') for item in data]\n",
        "\n",
        "data = [i for sublist in data for i in sublist]\n",
        "\n",
        "# Print each token\n",
        "for i in data:\n",
        "    print(\"Tokenization using Python’s split() function is:\", i.strip())\n"
      ]
    }
  ]
}