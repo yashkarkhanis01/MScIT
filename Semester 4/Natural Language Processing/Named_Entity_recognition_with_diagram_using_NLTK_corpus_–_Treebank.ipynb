{
  "nbformat": 4,
  "nbformat_minor": 0,
  "metadata": {
    "colab": {
      "provenance": [],
      "authorship_tag": "ABX9TyPZud5DbwrYOURoUgpYVvMa",
      "include_colab_link": true
    },
    "kernelspec": {
      "name": "python3",
      "display_name": "Python 3"
    },
    "language_info": {
      "name": "python"
    }
  },
  "cells": [
    {
      "cell_type": "markdown",
      "metadata": {
        "id": "view-in-github",
        "colab_type": "text"
      },
      "source": [
        "<a href=\"https://colab.research.google.com/github/mscitpract/nlp/blob/main/Named_Entity_recognition_with_diagram_using_NLTK_corpus_%E2%80%93_Treebank.ipynb\" target=\"_parent\"><img src=\"https://colab.research.google.com/assets/colab-badge.svg\" alt=\"Open In Colab\"/></a>"
      ]
    },
    {
      "cell_type": "code",
      "execution_count": 6,
      "metadata": {
        "colab": {
          "base_uri": "https://localhost:8080/"
        },
        "id": "zdmM8bsCN8CF",
        "outputId": "63e1566a-16f8-4efc-dd80-7ed53c707a46"
      },
      "outputs": [
        {
          "output_type": "stream",
          "name": "stdout",
          "text": [
            "(S\n",
            "  (NP Pierre/NNP Vinken/NNP)\n",
            "  ,/,\n",
            "  (NP 61/CD years/NNS)\n",
            "  old/JJ\n",
            "  ,/,\n",
            "  will/MD\n",
            "  join/VB\n",
            "  (NP the/DT board/NN)\n",
            "  as/IN\n",
            "  (NP a/DT nonexecutive/JJ director/NN Nov./NNP 29/CD)\n",
            "  ./.)\n",
            "(S\n",
            "  (NP Pierre/NNP Vinken/NNP)\n",
            "  ,/,\n",
            "  (NP 61/CD years/NNS)\n",
            "  old/JJ\n",
            "  ,/,\n",
            "  will/MD\n",
            "  join/VB\n",
            "  (NP the/DT board/NN)\n",
            "  as/IN\n",
            "  (NP a/DT nonexecutive/JJ director/NN Nov./NNP 29/CD)\n",
            "  ./.)\n"
          ]
        },
        {
          "output_type": "stream",
          "name": "stderr",
          "text": [
            "[nltk_data] Downloading package treebank to /root/nltk_data...\n",
            "[nltk_data]   Package treebank is already up-to-date!\n"
          ]
        }
      ],
      "source": [
        "import nltk\n",
        "from nltk.corpus import treebank_chunk\n",
        "\n",
        "# Ensure the required corpus is downloaded\n",
        "nltk.download('treebank')\n",
        "\n",
        "# Get the first chunked sentence\n",
        "chunked_sentence = treebank_chunk.chunked_sents()[0]\n",
        "\n",
        "# Print the tree structure in a text format\n",
        "print(chunked_sentence)\n",
        "\n",
        "# Pretty-print the tree structure\n",
        "from nltk.tree import Tree\n",
        "Tree.pprint(chunked_sentence)\n"
      ]
    }
  ]
}