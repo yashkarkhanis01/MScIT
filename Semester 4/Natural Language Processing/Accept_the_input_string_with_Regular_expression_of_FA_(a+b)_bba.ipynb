{
  "nbformat": 4,
  "nbformat_minor": 0,
  "metadata": {
    "colab": {
      "provenance": [],
      "authorship_tag": "ABX9TyOqLbJOWoSl/FbPikx5iN33",
      "include_colab_link": true
    },
    "kernelspec": {
      "name": "python3",
      "display_name": "Python 3"
    },
    "language_info": {
      "name": "python"
    }
  },
  "cells": [
    {
      "cell_type": "markdown",
      "metadata": {
        "id": "view-in-github",
        "colab_type": "text"
      },
      "source": [
        "<a href=\"https://colab.research.google.com/github/mscitpract/nlp/blob/main/Accept_the_input_string_with_Regular_expression_of_FA_(a%2Bb)_bba.ipynb\" target=\"_parent\"><img src=\"https://colab.research.google.com/assets/colab-badge.svg\" alt=\"Open In Colab\"/></a>"
      ]
    },
    {
      "cell_type": "code",
      "execution_count": 1,
      "metadata": {
        "colab": {
          "base_uri": "https://localhost:8080/"
        },
        "id": "WBAcWf9pP1HG",
        "outputId": "3ef7cbb8-3239-42a1-e0b3-55796e52c407"
      },
      "outputs": [
        {
          "output_type": "stream",
          "name": "stdout",
          "text": [
            "Accepted\n",
            "Accepted\n",
            "Accepted\n",
            "Rejected\n",
            "Rejected\n",
            "Rejected\n",
            "Rejected\n"
          ]
        }
      ],
      "source": [
        "def FA(s):\n",
        "    size=0\n",
        "#scan complete string and make sure that it contains only 'a' & 'b'\n",
        "    for i in s:\n",
        "        if i=='a' or i=='b':\n",
        "            size+=1\n",
        "        else:\n",
        "            return \"Rejected\"\n",
        "#After checking that it contains only 'a' & 'b' #check it's length it should be 3 atleast\n",
        "    if size>=3:\n",
        "#check the last 3 elements\n",
        "        if s[size-3]=='b':\n",
        "            if s[size-2]=='b':\n",
        "                if s[size-1]=='a':\n",
        "                    return \"Accepted\" # if all 4 if true\n",
        "                return \"Rejected\" # else of 4th if\n",
        "            return \"Rejected\" # else of 3rd if\n",
        "        return \"Rejected\" # else of 2nd if\n",
        "    return \"Rejected\" # else of 1st if\n",
        "\n",
        "inputs=['bba', 'ababbba', 'abba','abb', 'baba','bbb','']\n",
        "for i in inputs:\n",
        "    print(FA(i))"
      ]
    }
  ]
}