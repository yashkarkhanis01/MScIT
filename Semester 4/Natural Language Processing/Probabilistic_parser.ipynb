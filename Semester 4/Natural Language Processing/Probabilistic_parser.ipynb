{
  "nbformat": 4,
  "nbformat_minor": 0,
  "metadata": {
    "colab": {
      "provenance": [],
      "authorship_tag": "ABX9TyNVvk55HO8lzI0rCCUT1wpU",
      "include_colab_link": true
    },
    "kernelspec": {
      "name": "python3",
      "display_name": "Python 3"
    },
    "language_info": {
      "name": "python"
    }
  },
  "cells": [
    {
      "cell_type": "markdown",
      "metadata": {
        "id": "view-in-github",
        "colab_type": "text"
      },
      "source": [
        "<a href=\"https://colab.research.google.com/github/mscitpract/nlp/blob/main/Probabilistic_parser.ipynb\" target=\"_parent\"><img src=\"https://colab.research.google.com/assets/colab-badge.svg\" alt=\"Open In Colab\"/></a>"
      ]
    },
    {
      "cell_type": "code",
      "execution_count": 1,
      "metadata": {
        "colab": {
          "base_uri": "https://localhost:8080/"
        },
        "id": "tXx6Bz8aUy09",
        "outputId": "fa1d56ee-f44a-40a6-84c8-0e2f1c3d3dea"
      },
      "outputs": [
        {
          "output_type": "stream",
          "name": "stdout",
          "text": [
            "Grammar with 11 productions (start state = NP)\n",
            "    NP -> NNS [0.5]\n",
            "    NP -> JJ NNS [0.3]\n",
            "    NP -> NP CC NP [0.2]\n",
            "    NNS -> 'men' [0.1]\n",
            "    NNS -> 'women' [0.2]\n",
            "    NNS -> 'children' [0.3]\n",
            "    NNS -> NNS CC NNS [0.4]\n",
            "    JJ -> 'old' [0.4]\n",
            "    JJ -> 'young' [0.6]\n",
            "    CC -> 'and' [0.9]\n",
            "    CC -> 'or' [0.1]\n",
            "Output: \n",
            "(NP (JJ old) (NNS (NNS men) (CC and) (NNS women))) (p=0.000864)\n"
          ]
        }
      ],
      "source": [
        "import nltk\n",
        "from nltk import PCFG\n",
        "\n",
        "grammar = PCFG.fromstring('''\n",
        "NP -> NNS [0.5] | JJ NNS [0.3] | NP CC NP [0.2]\n",
        "NNS -> \"men\" [0.1] | \"women\" [0.2] | \"children\" [0.3] | NNS CC NNS [0.4]\n",
        "JJ -> \"old\" [0.4] | \"young\" [0.6]\n",
        "CC -> \"and\" [0.9] | \"or\" [0.1]\n",
        "''')\n",
        "\n",
        "print(grammar)\n",
        "\n",
        "viterbi_parser = nltk.ViterbiParser(grammar)\n",
        "token = \"old men and women\".split()\n",
        "obj = viterbi_parser.parse(token)\n",
        "\n",
        "print(\"Output: \")\n",
        "for x in obj:\n",
        "    print(x)\n",
        "\n"
      ]
    }
  ]
}