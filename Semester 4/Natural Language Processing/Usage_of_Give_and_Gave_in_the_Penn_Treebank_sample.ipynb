{
  "nbformat": 4,
  "nbformat_minor": 0,
  "metadata": {
    "colab": {
      "provenance": [],
      "authorship_tag": "ABX9TyNjeEsgrmhpbSZwiESgP8dr",
      "include_colab_link": true
    },
    "kernelspec": {
      "name": "python3",
      "display_name": "Python 3"
    },
    "language_info": {
      "name": "python"
    }
  },
  "cells": [
    {
      "cell_type": "markdown",
      "metadata": {
        "id": "view-in-github",
        "colab_type": "text"
      },
      "source": [
        "<a href=\"https://colab.research.google.com/github/mscitpract/nlp/blob/main/Usage_of_Give_and_Gave_in_the_Penn_Treebank_sample.ipynb\" target=\"_parent\"><img src=\"https://colab.research.google.com/assets/colab-badge.svg\" alt=\"Open In Colab\"/></a>"
      ]
    },
    {
      "cell_type": "code",
      "execution_count": 1,
      "metadata": {
        "colab": {
          "base_uri": "https://localhost:8080/"
        },
        "id": "EdGwcp7DUc7O",
        "outputId": "f9fe067c-12a7-4905-e760-a647062a6fb3"
      },
      "outputs": [
        {
          "output_type": "stream",
          "name": "stderr",
          "text": [
            "[nltk_data] Downloading package treebank to /root/nltk_data...\n",
            "[nltk_data]   Unzipping corpora/treebank.zip.\n"
          ]
        },
        {
          "output_type": "stream",
          "name": "stdout",
          "text": [
            "gave NP: the chefs / NP: a standing ovation\n",
            "give NP: advertisers / NP: discounts for maintaining or increasing ad sp...\n",
            "give NP: it / PP-DTV: to the politicians\n",
            "gave NP: them / NP: similar help\n",
            "give NP: them / NP: \n",
            "give NP: only French history questions / PP-DTV: to students in a Europe...\n",
            "give NP: federal judges / NP: a raise\n",
            "give NP: consumers / NP: the straight scoop on the U.S. waste crisis\n",
            "gave NP: Mitsui / NP: access to a high-tech medical product\n",
            "give NP: Mitsubishi / NP: a window on the U.S. glass industry\n",
            "give NP: much thought / PP-DTV: to the rates she was receiving , nor to ...\n",
            "give NP: your Foster Savings Institution / NP: the gift of hope and free...\n",
            "give NP: market operators / NP: the authority to suspend trading in futu...\n",
            "gave NP: quick approval / PP-DTV: to $ 3.18 billion in supplemental appr...\n",
            "give NP: the Transportation Department / NP: up to 50 days to review any...\n",
            "give NP: the president / NP: such power\n",
            "give NP: me / NP: the heebie-jeebies\n",
            "give NP: holders / NP: the right , but not the obligation , to buy a cal...\n",
            "gave NP: Mr. Thomas / NP: only a `` qualified '' rating , rather than ``...\n",
            "give NP: the president / NP: line-item veto power\n"
          ]
        }
      ],
      "source": [
        "import nltk\n",
        "nltk.download('treebank')\n",
        "import nltk.parse.viterbi\n",
        "import nltk.parse.pchart\n",
        "\n",
        "def give(t):\n",
        "    return t.label() == 'VP' and len(t) > 2 and t[1].label() == 'NP'\\\n",
        "           and (t[2].label() == 'PP-DTV' or t[2].label() == 'NP')\\\n",
        "           and ('give' in t[0].leaves() or 'gave' in t[0].leaves())\n",
        "\n",
        "def sent(t):\n",
        "    return ' '.join(token for token in t.leaves() if token[0] not in '*-0')\n",
        "\n",
        "def print_node(t, width):\n",
        "    output = \"%s %s: %s / %s: %s\" %\\\n",
        "      (sent(t[0]), t[1].label(), sent(t[1]), t[2].label(), sent(t[2]))\n",
        "    if len(output) > width:\n",
        "        output = output[:width] + \"...\"\n",
        "    print (output)\n",
        "\n",
        "for tree in nltk.corpus.treebank.parsed_sents():\n",
        "    for t in tree.subtrees(give):\n",
        "        print_node(t, 72)\n",
        "\n"
      ]
    }
  ]
}