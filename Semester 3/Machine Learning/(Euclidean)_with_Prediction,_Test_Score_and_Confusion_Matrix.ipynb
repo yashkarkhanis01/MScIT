{
  "nbformat": 4,
  "nbformat_minor": 0,
  "metadata": {
    "colab": {
      "provenance": []
    },
    "kernelspec": {
      "name": "python3",
      "display_name": "Python 3"
    },
    "language_info": {
      "name": "python"
    }
  },
  "cells": [
    {
      "cell_type": "code",
      "execution_count": 1,
      "metadata": {
        "colab": {
          "base_uri": "https://localhost:8080/"
        },
        "id": "qKKJCaFQLmVl",
        "outputId": "e8b61719-512d-4a7e-9012-7b420fe2d462"
      },
      "outputs": [
        {
          "output_type": "stream",
          "name": "stdout",
          "text": [
            "Predicted Label for the new data point:  [1 1 0 1 1 0 0 0 1 1 0 1 0 1 0 1 0 1 1 0]\n",
            "Test Score:  0.45\n",
            "Confusion Matrix: \n",
            " [[4 6]\n",
            " [5 5]]\n"
          ]
        },
        {
          "output_type": "stream",
          "name": "stderr",
          "text": [
            "/usr/local/lib/python3.10/dist-packages/sklearn/cluster/_kmeans.py:870: FutureWarning: The default value of `n_init` will change from 10 to 'auto' in 1.4. Set the value of `n_init` explicitly to suppress the warning\n",
            "  warnings.warn(\n"
          ]
        }
      ],
      "source": [
        "from sklearn.cluster import KMeans\n",
        "from sklearn.metrics import accuracy_score, confusion_matrix\n",
        "from sklearn.model_selection import train_test_split\n",
        "import numpy as np\n",
        "\n",
        "# Generate some random data for demonstration\n",
        "X = np.random.rand(100, 2)\n",
        "y = np.random.randint(0, 2, 100)\n",
        "\n",
        "# Split the data into training and test sets\n",
        "X_train, X_test, y_train, y_test = train_test_split(X, y, test_size=0.2)\n",
        "\n",
        "# Initialize the K-means clustering model\n",
        "kmeans = KMeans(n_clusters=2)\n",
        "\n",
        "\n",
        "# Fit the model to the training data\n",
        "kmeans.fit(X_train)\n",
        "\n",
        "# Assign labels to the test data based on the cluster centers\n",
        "y_pred = kmeans.predict(X_test)\n",
        "\n",
        "# Create a mapping from the cluster labels to the original labels\n",
        "# This step is needed because the k-means algorithm does not guarantee\n",
        "# that the clusters will correspond to the original labels\n",
        "label_map = dict(zip(np.unique(y_train), np.unique(y)))\n",
        "y_pred = np.array([label_map[label] for label in y_pred])\n",
        "\n",
        "print(\"Predicted Label for the new data point: \", y_pred )\n",
        "\n",
        "\n",
        "# Calculate the test score (accuracy)\n",
        "test_score = accuracy_score(y_test, y_pred)\n",
        "print(\"Test Score: \", test_score)\n",
        "\n",
        "# Calculate the confusion matrix\n",
        "confusion_mat = confusion_matrix(y_test, y_pred)\n",
        "print(\"Confusion Matrix: \\n\", confusion_mat)\n"
      ]
    }
  ]
}