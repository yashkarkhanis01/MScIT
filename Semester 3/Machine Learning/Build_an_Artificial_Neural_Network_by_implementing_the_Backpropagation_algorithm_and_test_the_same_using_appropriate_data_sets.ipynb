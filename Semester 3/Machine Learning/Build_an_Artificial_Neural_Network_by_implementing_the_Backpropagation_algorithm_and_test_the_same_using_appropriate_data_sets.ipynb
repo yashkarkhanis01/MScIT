{
  "nbformat": 4,
  "nbformat_minor": 0,
  "metadata": {
    "colab": {
      "provenance": []
    },
    "kernelspec": {
      "name": "python3",
      "display_name": "Python 3"
    },
    "language_info": {
      "name": "python"
    }
  },
  "cells": [
    {
      "cell_type": "code",
      "execution_count": 1,
      "metadata": {
        "id": "c_GGWnGVYjy8"
      },
      "outputs": [],
      "source": [
        "import numpy as np\n",
        "X = np.array(([2, 9], [1, 5], [3, 6]), dtype=float)\n",
        "y = np.array(([92], [86], [89]), dtype=float)\n",
        "X = X/np.amax(X,axis=0) # maximum of X array longitudinally\n",
        "y = y/100\n"
      ]
    },
    {
      "cell_type": "markdown",
      "source": [
        "Sigmoid Function"
      ],
      "metadata": {
        "id": "h-ytZOTWZHzG"
      }
    },
    {
      "cell_type": "code",
      "source": [
        "def sigmoid (x):\n",
        " return 1/(1 + np.exp(-x))\n"
      ],
      "metadata": {
        "id": "9R64JNwoZHSQ"
      },
      "execution_count": 2,
      "outputs": []
    },
    {
      "cell_type": "markdown",
      "source": [
        "Derivative of Sigmoid Function"
      ],
      "metadata": {
        "id": "ll3hW6taZNSr"
      }
    },
    {
      "cell_type": "code",
      "source": [
        "def derivatives_sigmoid(x):\n",
        " return x * (1 - x)\n"
      ],
      "metadata": {
        "id": "e9wCzgJSZMhh"
      },
      "execution_count": 3,
      "outputs": []
    },
    {
      "cell_type": "markdown",
      "source": [
        "Variable initialization"
      ],
      "metadata": {
        "id": "3-9e1xyHZVzD"
      }
    },
    {
      "cell_type": "code",
      "source": [
        "epoch=5000 #Setting training iterations\n",
        "lr=0.1 #Setting learning rate\n",
        "inputlayer_neurons = 2 #number of features in data set\n",
        "hiddenlayer_neurons = 3 #number of hidden layers neurons\n",
        "output_neurons = 1 #number of neurons at output layer\n"
      ],
      "metadata": {
        "id": "o_L_vtbwZVHc"
      },
      "execution_count": 4,
      "outputs": []
    },
    {
      "cell_type": "markdown",
      "source": [
        "weight and bias initialization"
      ],
      "metadata": {
        "id": "6uumWeNIZcLG"
      }
    },
    {
      "cell_type": "code",
      "source": [
        "wh=np.random.uniform(size=(inputlayer_neurons,hiddenlayer_neurons))\n",
        "bh=np.random.uniform(size=(1,hiddenlayer_neurons))\n",
        "wout=np.random.uniform(size=(hiddenlayer_neurons,output_neurons))\n",
        "bout=np.random.uniform(size=(1,output_neurons))\n"
      ],
      "metadata": {
        "id": "JITpJMJRZhaY"
      },
      "execution_count": 5,
      "outputs": []
    },
    {
      "cell_type": "markdown",
      "source": [
        "Draws a random range of numbers uniformy of dim x*y"
      ],
      "metadata": {
        "id": "cGbkGmUaZi-7"
      }
    },
    {
      "cell_type": "code",
      "source": [
        "for i in range(epoch):\n",
        "   hinp1=np.dot(X,wh)\n",
        "   hinp=hinp1 + bh\n",
        "   hlayer_act = sigmoid(hinp)\n",
        "   outinp1=np.dot(hlayer_act,wout)\n",
        "   outinp= outinp1+ bout\n",
        "   output = sigmoid(outinp)\n"
      ],
      "metadata": {
        "id": "2UClsmvGZpUe"
      },
      "execution_count": 6,
      "outputs": []
    },
    {
      "cell_type": "code",
      "source": [
        "EO = y-output\n",
        "outgrad = derivatives_sigmoid(output)\n",
        "d_output = EO* outgrad\n",
        "EH = d_output.dot(wout.T)\n"
      ],
      "metadata": {
        "id": "IBlvd_W5Zqu_"
      },
      "execution_count": 7,
      "outputs": []
    },
    {
      "cell_type": "code",
      "source": [
        " hiddengrad = derivatives_sigmoid(hlayer_act)\n",
        " d_hiddenlayer = EH * hiddengrad\n"
      ],
      "metadata": {
        "id": "uj3NfxXUZsGd"
      },
      "execution_count": 8,
      "outputs": []
    },
    {
      "cell_type": "code",
      "source": [
        "wout += hlayer_act.T.dot(d_output) *lr\n",
        "wh += X.T.dot(d_hiddenlayer) *lr\n",
        "print(\"Input: \\n\" + str(X))\n",
        "print(\"Actual Output: \\n\" + str(y))\n",
        "print(\"Predicted Output: \\n\" ,output)\n"
      ],
      "metadata": {
        "colab": {
          "base_uri": "https://localhost:8080/"
        },
        "id": "wRKxYuPPZtul",
        "outputId": "5c3d8cda-283a-4051-f31e-bd6514e9ec7a"
      },
      "execution_count": 9,
      "outputs": [
        {
          "output_type": "stream",
          "name": "stdout",
          "text": [
            "Input: \n",
            "[[0.66666667 1.        ]\n",
            " [0.33333333 0.55555556]\n",
            " [1.         0.66666667]]\n",
            "Actual Output: \n",
            "[[0.92]\n",
            " [0.86]\n",
            " [0.89]]\n",
            "Predicted Output: \n",
            " [[0.79217476]\n",
            " [0.77906461]\n",
            " [0.78827127]]\n"
          ]
        }
      ]
    }
  ]
}