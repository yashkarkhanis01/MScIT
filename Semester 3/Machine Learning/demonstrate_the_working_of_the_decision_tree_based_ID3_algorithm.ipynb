{
  "nbformat": 4,
  "nbformat_minor": 0,
  "metadata": {
    "colab": {
      "provenance": []
    },
    "kernelspec": {
      "name": "python3",
      "display_name": "Python 3"
    },
    "language_info": {
      "name": "python"
    }
  },
  "cells": [
    {
      "cell_type": "code",
      "execution_count": 3,
      "metadata": {
        "id": "J7s5sIQXIZRx"
      },
      "outputs": [],
      "source": [
        "import pandas as pd\n",
        "import math\n",
        "import numpy as np"
      ]
    },
    {
      "cell_type": "code",
      "source": [
        "data = pd.read_csv(\"ID3 algorithm.csv\")\n",
        "features = [feat for feat in data]\n",
        "features.remove(\"answer\")\n"
      ],
      "metadata": {
        "id": "FWls2A9tIhwn"
      },
      "execution_count": 4,
      "outputs": []
    },
    {
      "cell_type": "code",
      "source": [
        "from google.colab import drive\n",
        "drive.mount('/content/drive')"
      ],
      "metadata": {
        "colab": {
          "base_uri": "https://localhost:8080/"
        },
        "id": "la-BF47LIjtX",
        "outputId": "7208d54f-b95e-4ade-f22e-e0040c9e4ea9"
      },
      "execution_count": 5,
      "outputs": [
        {
          "output_type": "stream",
          "name": "stdout",
          "text": [
            "Mounted at /content/drive\n"
          ]
        }
      ]
    },
    {
      "cell_type": "code",
      "source": [
        "class Node:\n",
        "    def __init__(self):\n",
        "        self.children = []\n",
        "        self.value = \"\"\n",
        "        self.isLeaf = False\n",
        "        self.pred = \"\""
      ],
      "metadata": {
        "id": "6cJrTXb2IkWl"
      },
      "execution_count": 6,
      "outputs": []
    },
    {
      "cell_type": "code",
      "source": [
        "def entropy(examples):\n",
        "    pos = 0.0\n",
        "    neg = 0.0\n",
        "    for _, row in examples.iterrows():\n",
        "        if row[\"answer\"] == \"yes\":\n",
        "            pos += 1\n",
        "        else:\n",
        "            neg += 1\n",
        "    if pos == 0.0 or neg == 0.0:\n",
        "        return 0.0\n",
        "    else:\n",
        "        p = pos / (pos + neg)\n",
        "        n = neg / (pos + neg)\n",
        "        return -(p * math.log(p, 2) + n * math.log(n, 2))"
      ],
      "metadata": {
        "id": "PU8O7KSuImbt"
      },
      "execution_count": 7,
      "outputs": []
    },
    {
      "cell_type": "code",
      "source": [
        "def info_gain(examples, attr):\n",
        "    uniq = np.unique(examples[attr])\n",
        "    #print (\"\\n\",uniq)\n",
        "    gain = entropy(examples)\n",
        "    #print (\"\\n\",gain)\n",
        "    for u in uniq:\n",
        "        subdata = examples[examples[attr] == u]\n",
        "        #print (\"\\n\",subdata)\n",
        "        sub_e = entropy(subdata)\n",
        "        gain -= (float(len(subdata)) / float(len(examples))) * sub_e\n",
        "        #print (\"\\n\",gain)\n",
        "    return gain"
      ],
      "metadata": {
        "id": "TVVgZq6YInHg"
      },
      "execution_count": 8,
      "outputs": []
    },
    {
      "cell_type": "code",
      "source": [
        "def ID3(examples, attrs):\n",
        "    root = Node()\n",
        "\n",
        "    max_gain = 0\n",
        "    max_feat = \"\"\n",
        "    for feature in attrs:\n",
        "        #print (\"\\n\",examples)\n",
        "        gain = info_gain(examples, feature)\n",
        "        if gain > max_gain:\n",
        "            max_gain = gain\n",
        "            max_feat = feature\n",
        "    root.value = max_feat\n",
        "    #print (\"\\nMax feature attr\",max_feat)\n",
        "    uniq = np.unique(examples[max_feat])\n",
        "    #print (\"\\n\",uniq)\n",
        "    for u in uniq:\n",
        "        #print (\"\\n\",u)\n",
        "        subdata = examples[examples[max_feat] == u]\n",
        "        #print (\"\\n\",subdata)\n",
        "        if entropy(subdata) == 0.0:\n",
        "            newNode = Node()\n",
        "            newNode.isLeaf = True\n",
        "            newNode.value = u\n",
        "            newNode.pred = np.unique(subdata[\"answer\"])\n",
        "            root.children.append(newNode)\n",
        "        else:\n",
        "            dummyNode = Node()\n",
        "            dummyNode.value = u\n",
        "            new_attrs = attrs.copy()\n",
        "            new_attrs.remove(max_feat)\n",
        "            child = ID3(subdata, new_attrs)\n",
        "            dummyNode.children.append(child)\n",
        "            root.children.append(dummyNode)\n",
        "\n",
        "    return root"
      ],
      "metadata": {
        "id": "7xxbv571Iok2"
      },
      "execution_count": 9,
      "outputs": []
    },
    {
      "cell_type": "code",
      "source": [
        "def printTree(root: Node, depth=0):\n",
        "    for i in range(depth):\n",
        "        print(\"\\t\", end=\"\")\n",
        "    print(root.value, end=\"\")\n",
        "    if root.isLeaf:\n",
        "        print(\" -> \", root.pred)\n",
        "    print()\n",
        "    for child in root.children:\n",
        "        printTree(child, depth + 1)"
      ],
      "metadata": {
        "id": "dN1Jb5ohIrDl"
      },
      "execution_count": 10,
      "outputs": []
    },
    {
      "cell_type": "code",
      "source": [
        "def classify(root: Node, new):\n",
        "    for child in root.children:\n",
        "        if child.value == new[root.value]:\n",
        "            if child.isLeaf:\n",
        "                print (\"Predicted Label for new example\", new,\" is:\", child.pred)\n",
        "                exit\n",
        "            else:\n",
        "                classify (child.children[0], new)"
      ],
      "metadata": {
        "id": "9I91jccCIsfV"
      },
      "execution_count": 11,
      "outputs": []
    },
    {
      "cell_type": "code",
      "source": [
        "root = ID3(data, features)\n",
        "print(\"Decision Tree is:\")\n",
        "printTree(root)\n",
        "print (\"------------------\")\n",
        "\n",
        "new = {\"outlook\":\"sunny\", \"temperature\":\"hot\", \"humidity\":\"normal\", \"wind\":\"strong\"}\n",
        "classify (root, new)"
      ],
      "metadata": {
        "colab": {
          "base_uri": "https://localhost:8080/"
        },
        "id": "RQCUclHvIvNl",
        "outputId": "5b2e424a-d8a5-4b0b-ff2f-b0009c3e3bdb"
      },
      "execution_count": 12,
      "outputs": [
        {
          "output_type": "stream",
          "name": "stdout",
          "text": [
            "Decision Tree is:\n",
            "outlook\n",
            "\tovercast ->  ['yes']\n",
            "\n",
            "\train\n",
            "\t\twind\n",
            "\t\t\tstrong ->  ['no']\n",
            "\n",
            "\t\t\tweak ->  ['yes']\n",
            "\n",
            "\tsunny\n",
            "\t\thumidity\n",
            "\t\t\thigh ->  ['no']\n",
            "\n",
            "\t\t\tnormal ->  ['yes']\n",
            "\n",
            "------------------\n",
            "Predicted Label for new example {'outlook': 'sunny', 'temperature': 'hot', 'humidity': 'normal', 'wind': 'strong'}  is: ['yes']\n"
          ]
        }
      ]
    }
  ]
}