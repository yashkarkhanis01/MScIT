{
  "nbformat": 4,
  "nbformat_minor": 0,
  "metadata": {
    "colab": {
      "provenance": []
    },
    "kernelspec": {
      "name": "python3",
      "display_name": "Python 3"
    },
    "language_info": {
      "name": "python"
    }
  },
  "cells": [
    {
      "cell_type": "code",
      "execution_count": 1,
      "metadata": {
        "colab": {
          "base_uri": "https://localhost:8080/"
        },
        "id": "na337AM2UsvC",
        "outputId": "749a9c52-74b5-4788-8c7a-28a0e8db2bda"
      },
      "outputs": [
        {
          "output_type": "stream",
          "name": "stdout",
          "text": [
            "Test Score:  0.7\n",
            "Confusion Matrix: \n",
            " [[8 3]\n",
            " [3 6]]\n"
          ]
        }
      ],
      "source": [
        "from sklearn.metrics import accuracy_score, confusion_matrix\n",
        "from sklearn.model_selection import train_test_split\n",
        "import numpy as np\n",
        "\n",
        "# Generate some random data for demonstration\n",
        "X = np.random.rand(100, 2)\n",
        "y = np.random.randint(0, 2, 100)\n",
        "\n",
        "# Split the data into training and test sets\n",
        "X_train, X_test, y_train, y_test = train_test_split(X, y, test_size=0.2)\n",
        "\n",
        "# Define the rule-based classifier\n",
        "def rule_based_classifier(x):\n",
        "  if x[0] > x[1]:\n",
        "        return 0\n",
        "  else:\n",
        "        return 1\n",
        "\n",
        "# Make predictions on the test set using the rule-based classifier\n",
        "y_pred = np.array([rule_based_classifier(x) for x in X_test])\n",
        "\n",
        "# Calculate the test score (accuracy)\n",
        "test_score = accuracy_score(y_test, y_pred)\n",
        "print(\"Test Score: \", test_score)\n",
        "\n",
        "# Calculate the confusion matrix\n",
        "confusion_mat = confusion_matrix(y_test, y_pred)\n",
        "print(\"Confusion Matrix: \\n\", confusion_mat)\n"
      ]
    }
  ]
}