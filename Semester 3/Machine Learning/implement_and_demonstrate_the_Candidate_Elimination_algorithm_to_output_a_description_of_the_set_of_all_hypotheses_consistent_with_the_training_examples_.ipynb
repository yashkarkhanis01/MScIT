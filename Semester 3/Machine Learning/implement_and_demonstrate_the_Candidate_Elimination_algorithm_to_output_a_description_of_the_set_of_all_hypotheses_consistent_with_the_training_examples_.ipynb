{
  "nbformat": 4,
  "nbformat_minor": 0,
  "metadata": {
    "colab": {
      "provenance": []
    },
    "kernelspec": {
      "name": "python3",
      "display_name": "Python 3"
    },
    "language_info": {
      "name": "python"
    }
  },
  "cells": [
    {
      "cell_type": "code",
      "execution_count": 1,
      "metadata": {
        "colab": {
          "base_uri": "https://localhost:8080/"
        },
        "id": "mY_ZXW2c3cvr",
        "outputId": "d71ed2a4-f616-4009-9925-a0a32fee96e2"
      },
      "outputs": [
        {
          "output_type": "stream",
          "name": "stdout",
          "text": [
            "\n",
            "Instances are:\n",
            " [['sunny' 'warm' 'normal' 'strong' 'warm' 'same']\n",
            " ['sunny' 'warm' 'high' 'strong' 'warm' 'same']\n",
            " ['rainy' 'cold' 'high' 'strong' 'warm' 'change']\n",
            " ['sunny' 'warm' 'high' 'strong' 'cool' 'change']]\n",
            "\n",
            "Target Values are:  ['yes' 'yes' 'no' 'yes']\n"
          ]
        }
      ],
      "source": [
        "import numpy as np\n",
        "import pandas as pd\n",
        "data = pd.read_csv('sport.csv')\n",
        "concepts = np.array(data.iloc[:,0:-1])\n",
        "print(\"\\nInstances are:\\n\",concepts)\n",
        "target = np.array(data.iloc[:,-1])\n",
        "print(\"\\nTarget Values are: \",target)\n"
      ]
    },
    {
      "cell_type": "code",
      "source": [
        "def learn(concepts, target):\n",
        "    specific_h = concepts[0].copy()\n",
        "    print(\"\\nInitialization of specific_h and genearal_h\")\n",
        "    print(\"\\nSpecific Boundary: \", specific_h)\n",
        "    general_h = [[\"?\" for i in range(len(specific_h))] for i in range(len(specific_h))]\n",
        "    print(\"\\nGeneric Boundary: \",general_h)\n",
        "    for i, h in enumerate(concepts):\n",
        "        print(\"\\nInstance\", i+1 , \"is \", h)\n",
        "        if target[i] == \"yes\":\n",
        "            print(\"Instance is Positive \")\n",
        "            for x in range(len (specific_h)):\n",
        "                if h[x]!= specific_h[x]:\n",
        "                    specific_h[x] ='?'\n",
        "                    general_h[x][x] ='?'\n",
        "                    if target[i] == \"no\":\n",
        "                      print(\"Instance is Negative \")\n",
        "            for x in range(len(specific_h)):\n",
        "              if h[x]!= specific_h[x]:\n",
        "                general_h[x][x] = specific_h[x]\n",
        "            else:\n",
        "                general_h[x][x] = '?'\n",
        "                print(\"Specific Bundary after \", i+1, \"Instance is \", specific_h)\n",
        "        print(\"Generic Boundary after \", i+1, \"Instance is \", general_h)\n",
        "        print(\"\\n\")\n",
        "        indices = [i for i, val in enumerate(general_h) if val == ['?', '?', '?', '?', '?', '?']]\n",
        "    for i in indices:\n",
        "        general_h.remove(['?', '?', '?', '?', '?', '?'])\n",
        "    return specific_h, general_h\n"
      ],
      "metadata": {
        "id": "6UAH0AIU3lGD"
      },
      "execution_count": 2,
      "outputs": []
    },
    {
      "cell_type": "code",
      "source": [
        "s_final, g_final = learn(concepts, target)\n"
      ],
      "metadata": {
        "colab": {
          "base_uri": "https://localhost:8080/"
        },
        "id": "QtYRYXBw3nD4",
        "outputId": "b0e9d9aa-a9c8-47da-968e-53d5968e8c36"
      },
      "execution_count": 3,
      "outputs": [
        {
          "output_type": "stream",
          "name": "stdout",
          "text": [
            "\n",
            "Initialization of specific_h and genearal_h\n",
            "\n",
            "Specific Boundary:  ['sunny' 'warm' 'normal' 'strong' 'warm' 'same']\n",
            "\n",
            "Generic Boundary:  [['?', '?', '?', '?', '?', '?'], ['?', '?', '?', '?', '?', '?'], ['?', '?', '?', '?', '?', '?'], ['?', '?', '?', '?', '?', '?'], ['?', '?', '?', '?', '?', '?'], ['?', '?', '?', '?', '?', '?']]\n",
            "\n",
            "Instance 1 is  ['sunny' 'warm' 'normal' 'strong' 'warm' 'same']\n",
            "Instance is Positive \n",
            "Specific Bundary after  1 Instance is  ['sunny' 'warm' 'normal' 'strong' 'warm' 'same']\n",
            "Generic Boundary after  1 Instance is  [['?', '?', '?', '?', '?', '?'], ['?', '?', '?', '?', '?', '?'], ['?', '?', '?', '?', '?', '?'], ['?', '?', '?', '?', '?', '?'], ['?', '?', '?', '?', '?', '?'], ['?', '?', '?', '?', '?', '?']]\n",
            "\n",
            "\n",
            "\n",
            "Instance 2 is  ['sunny' 'warm' 'high' 'strong' 'warm' 'same']\n",
            "Instance is Positive \n",
            "Specific Bundary after  2 Instance is  ['sunny' 'warm' '?' 'strong' 'warm' 'same']\n",
            "Generic Boundary after  2 Instance is  [['?', '?', '?', '?', '?', '?'], ['?', '?', '?', '?', '?', '?'], ['?', '?', '?', '?', '?', '?'], ['?', '?', '?', '?', '?', '?'], ['?', '?', '?', '?', '?', '?'], ['?', '?', '?', '?', '?', '?']]\n",
            "\n",
            "\n",
            "\n",
            "Instance 3 is  ['rainy' 'cold' 'high' 'strong' 'warm' 'change']\n",
            "Generic Boundary after  3 Instance is  [['?', '?', '?', '?', '?', '?'], ['?', '?', '?', '?', '?', '?'], ['?', '?', '?', '?', '?', '?'], ['?', '?', '?', '?', '?', '?'], ['?', '?', '?', '?', '?', '?'], ['?', '?', '?', '?', '?', '?']]\n",
            "\n",
            "\n",
            "\n",
            "Instance 4 is  ['sunny' 'warm' 'high' 'strong' 'cool' 'change']\n",
            "Instance is Positive \n",
            "Specific Bundary after  4 Instance is  ['sunny' 'warm' '?' 'strong' '?' '?']\n",
            "Generic Boundary after  4 Instance is  [['?', '?', '?', '?', '?', '?'], ['?', '?', '?', '?', '?', '?'], ['?', '?', '?', '?', '?', '?'], ['?', '?', '?', '?', '?', '?'], ['?', '?', '?', '?', '?', '?'], ['?', '?', '?', '?', '?', '?']]\n",
            "\n",
            "\n"
          ]
        }
      ]
    },
    {
      "cell_type": "code",
      "source": [
        "print(\"Final Specific_h: \", s_final, sep=\"\\n\")\n",
        "print(\"Final General_h: \", g_final, sep=\"\\n\")\n"
      ],
      "metadata": {
        "colab": {
          "base_uri": "https://localhost:8080/"
        },
        "id": "o5tz-Fy03qAQ",
        "outputId": "b950c13d-5c52-4272-e543-9b9af6ce79ce"
      },
      "execution_count": 4,
      "outputs": [
        {
          "output_type": "stream",
          "name": "stdout",
          "text": [
            "Final Specific_h: \n",
            "['sunny' 'warm' '?' 'strong' '?' '?']\n",
            "Final General_h: \n",
            "[]\n"
          ]
        }
      ]
    }
  ]
}