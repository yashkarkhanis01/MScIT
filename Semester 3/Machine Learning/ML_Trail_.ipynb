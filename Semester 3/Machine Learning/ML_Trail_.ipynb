{
  "nbformat": 4,
  "nbformat_minor": 0,
  "metadata": {
    "colab": {
      "provenance": [],
      "authorship_tag": "ABX9TyPPblLAv6SfRvFqSqkRRQGs",
      "include_colab_link": true
    },
    "kernelspec": {
      "name": "python3",
      "display_name": "Python 3"
    },
    "language_info": {
      "name": "python"
    }
  },
  "cells": [
    {
      "cell_type": "markdown",
      "metadata": {
        "id": "view-in-github",
        "colab_type": "text"
      },
      "source": [
        "<a href=\"https://colab.research.google.com/github/mscitpract/ML/blob/main/ML_Trail_.ipynb\" target=\"_parent\"><img src=\"https://colab.research.google.com/assets/colab-badge.svg\" alt=\"Open In Colab\"/></a>"
      ]
    },
    {
      "cell_type": "code",
      "execution_count": 1,
      "metadata": {
        "id": "uVaf2b6colj-"
      },
      "outputs": [],
      "source": [
        "import numpy as np\n",
        "X = np.array(([2, 9], [1, 5], [3, 6]), dtype=float)\n",
        "y = np.array(([92], [86], [89]), dtype=float)\n",
        "X = X/np.amax(X,axis=0) # maximum of X array longitudinally\n",
        "y = y/100\n"
      ]
    },
    {
      "cell_type": "code",
      "source": [
        "def sigmoid (x):\n",
        " return 1/(1 + np.exp(-x))"
      ],
      "metadata": {
        "id": "zqbhqbvwq7ez"
      },
      "execution_count": 2,
      "outputs": []
    },
    {
      "cell_type": "code",
      "source": [
        "def derivatives_sigmoid(x):\n",
        " return x * (1 - x)\n"
      ],
      "metadata": {
        "id": "04qxRw38q__b"
      },
      "execution_count": 3,
      "outputs": []
    },
    {
      "cell_type": "code",
      "source": [
        "epoch=5000 #Setting training iterations\n",
        "lr=0.1 #Setting learning rate\n",
        "inputlayer_neurons = 2 #number of features in data set\n",
        "hiddenlayer_neurons = 3 #number of hidden layers neurons\n",
        "output_neurons = 1 #number of neurons at output layer"
      ],
      "metadata": {
        "id": "0rx3VKodrAsR"
      },
      "execution_count": 4,
      "outputs": []
    },
    {
      "cell_type": "code",
      "source": [
        "wh=np.random.uniform(size=(inputlayer_neurons,hiddenlayer_neurons))\n",
        "bh=np.random.uniform(size=(1,hiddenlayer_neurons))\n",
        "wout=np.random.uniform(size=(hiddenlayer_neurons,output_neurons))\n",
        "bout=np.random.uniform(size=(1,output_neurons))"
      ],
      "metadata": {
        "id": "juEiMv0ErDDc"
      },
      "execution_count": 5,
      "outputs": []
    },
    {
      "cell_type": "code",
      "source": [
        "for i in range(epoch):\n",
        "   hinp1=np.dot(X,wh)\n",
        "   hinp=hinp1 + bh\n",
        "   hlayer_act = sigmoid(hinp)\n",
        "   outinp1=np.dot(hlayer_act,wout)\n",
        "   outinp= outinp1+ bout\n",
        "   output = sigmoid(outinp)"
      ],
      "metadata": {
        "id": "h4Z9WaACrGFc"
      },
      "execution_count": 6,
      "outputs": []
    },
    {
      "cell_type": "code",
      "source": [
        "EO = y-output\n",
        "outgrad = derivatives_sigmoid(output)\n",
        "d_output = EO* outgrad\n",
        "EH = d_output.dot(wout.T)\n"
      ],
      "metadata": {
        "id": "dtDFFyXRrJOS"
      },
      "execution_count": 7,
      "outputs": []
    },
    {
      "cell_type": "code",
      "source": [
        " hiddengrad = derivatives_sigmoid(hlayer_act)\n",
        " d_hiddenlayer = EH * hiddengrad\n"
      ],
      "metadata": {
        "id": "YhLPX6DTrMaV"
      },
      "execution_count": 8,
      "outputs": []
    },
    {
      "cell_type": "code",
      "source": [
        "wout += hlayer_act.T.dot(d_output) *lr\n",
        "wh += X.T.dot(d_hiddenlayer) *lr\n",
        "print(\"Input: \\n\" + str(X))\n",
        "print(\"Actual Output: \\n\" + str(y))\n",
        "print(\"Predicted Output: \\n\" ,output)"
      ],
      "metadata": {
        "colab": {
          "base_uri": "https://localhost:8080/"
        },
        "id": "Dcodto2JrOkB",
        "outputId": "8e658673-d910-4dce-a3b5-82d8deedaf02"
      },
      "execution_count": 9,
      "outputs": [
        {
          "output_type": "stream",
          "name": "stdout",
          "text": [
            "Input: \n",
            "[[0.66666667 1.        ]\n",
            " [0.33333333 0.55555556]\n",
            " [1.         0.66666667]]\n",
            "Actual Output: \n",
            "[[0.92]\n",
            " [0.86]\n",
            " [0.89]]\n",
            "Predicted Output: \n",
            " [[0.83764346]\n",
            " [0.82481611]\n",
            " [0.84189247]]\n"
          ]
        }
      ]
    },
    {
      "cell_type": "code",
      "source": [],
      "metadata": {
        "id": "9fLrPk1OrSfk"
      },
      "execution_count": 9,
      "outputs": []
    }
  ]
}