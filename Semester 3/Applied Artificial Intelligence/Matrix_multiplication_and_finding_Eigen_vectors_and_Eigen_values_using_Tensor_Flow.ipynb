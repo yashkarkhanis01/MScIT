{
  "nbformat": 4,
  "nbformat_minor": 0,
  "metadata": {
    "colab": {
      "provenance": [],
      "authorship_tag": "ABX9TyPPujHA+GhRqLaLoHlJHgeX",
      "include_colab_link": true
    },
    "kernelspec": {
      "name": "python3",
      "display_name": "Python 3"
    },
    "language_info": {
      "name": "python"
    }
  },
  "cells": [
    {
      "cell_type": "markdown",
      "metadata": {
        "id": "view-in-github",
        "colab_type": "text"
      },
      "source": [
        "<a href=\"https://colab.research.google.com/github/mscitpract/AAI/blob/main/Matrix_multiplication_and_finding_Eigen_vectors_and_Eigen_values_using_Tensor_Flow.ipynb\" target=\"_parent\"><img src=\"https://colab.research.google.com/assets/colab-badge.svg\" alt=\"Open In Colab\"/></a>"
      ]
    },
    {
      "cell_type": "code",
      "execution_count": 8,
      "metadata": {
        "id": "jyLVzQFli7fH"
      },
      "outputs": [],
      "source": [
        "import tensorflow as tf"
      ]
    },
    {
      "cell_type": "code",
      "source": [
        "x = tf.constant([1,2,3,4,5,6], shape=[2,3])\n",
        "y = tf.constant([9,8,3,7,5,6], shape=[3,2])\n",
        "z=tf.matmul(x,y)\n",
        "print(z)"
      ],
      "metadata": {
        "colab": {
          "base_uri": "https://localhost:8080/"
        },
        "id": "us3a_7tVjFUX",
        "outputId": "a0219259-9f57-40f2-f0d1-01c5a6160655"
      },
      "execution_count": 3,
      "outputs": [
        {
          "output_type": "stream",
          "name": "stdout",
          "text": [
            "tf.Tensor(\n",
            "[[ 30  40]\n",
            " [ 81 103]], shape=(2, 2), dtype=int32)\n"
          ]
        }
      ]
    },
    {
      "cell_type": "code",
      "source": [
        "e_matrix_A = tf.random.uniform([2,2],minval=3,maxval=10,dtype=tf.float32,name='matrixA')\n",
        "print(\"Matrix A:{}\".format(e_matrix_A))"
      ],
      "metadata": {
        "colab": {
          "base_uri": "https://localhost:8080/"
        },
        "id": "rXYcLi4pjanU",
        "outputId": "2ace3a07-b2c6-45d2-ff50-8efd6b152ebc"
      },
      "execution_count": 4,
      "outputs": [
        {
          "output_type": "stream",
          "name": "stdout",
          "text": [
            "Matrix A:[[5.1966634 4.7026   ]\n",
            " [3.5730696 7.7309604]]\n"
          ]
        }
      ]
    },
    {
      "cell_type": "code",
      "source": [
        "eigen_value, eigen_vector = tf.linalg.eigh(e_matrix_A)\n",
        "print(\"Eigen Vectors:\\n\\n{}\\n\\n \\nEigen Values:{}\".format(eigen_vector,eigen_value))"
      ],
      "metadata": {
        "colab": {
          "base_uri": "https://localhost:8080/"
        },
        "id": "SFJbnlpykMFC",
        "outputId": "050f9bb6-e016-41a1-9414-d8d0d534dfc1"
      },
      "execution_count": 10,
      "outputs": [
        {
          "output_type": "stream",
          "name": "stdout",
          "text": [
            "Eigen Vectors:\n",
            "\n",
            "[[-0.8167748 -0.5769565]\n",
            " [ 0.5769565 -0.8167748]]\n",
            "\n",
            " \n",
            "Eigen Values:[ 2.6727045 10.254917 ]\n"
          ]
        }
      ]
    }
  ]
}