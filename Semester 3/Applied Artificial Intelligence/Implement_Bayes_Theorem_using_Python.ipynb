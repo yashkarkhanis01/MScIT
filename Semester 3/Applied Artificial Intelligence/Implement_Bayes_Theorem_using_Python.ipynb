{
  "nbformat": 4,
  "nbformat_minor": 0,
  "metadata": {
    "colab": {
      "provenance": [],
      "authorship_tag": "ABX9TyP3uME+Zrgz1hTdCFJCYYGT",
      "include_colab_link": true
    },
    "kernelspec": {
      "name": "python3",
      "display_name": "Python 3"
    },
    "language_info": {
      "name": "python"
    }
  },
  "cells": [
    {
      "cell_type": "markdown",
      "metadata": {
        "id": "view-in-github",
        "colab_type": "text"
      },
      "source": [
        "<a href=\"https://colab.research.google.com/github/mscitpract/AAI/blob/main/Implement_Bayes_Theorem_using_Python.ipynb\" target=\"_parent\"><img src=\"https://colab.research.google.com/assets/colab-badge.svg\" alt=\"Open In Colab\"/></a>"
      ]
    },
    {
      "cell_type": "code",
      "execution_count": 1,
      "metadata": {
        "colab": {
          "base_uri": "https://localhost:8080/"
        },
        "id": "EZlmQsWMIl5N",
        "outputId": "2e22d5a2-4956-41a8-8940-0cafecc36d40"
      },
      "outputs": [
        {
          "output_type": "stream",
          "name": "stdout",
          "text": [
            "Yash Karkhanis\n",
            "The test-taker may not be an user\n",
            "Probablity of the test-taker being a drug user is: 0.089\n"
          ]
        }
      ],
      "source": [
        "def drug_user(\n",
        "        prob_th=0.8,\n",
        "        sensitivity=0.79,\n",
        "        specificity=0.79,\n",
        "        prevelance=0.02,\n",
        "        verbose=True):\n",
        "\n",
        "\n",
        "    p_user = prevelance\n",
        "    p_non_user = 1-prevelance\n",
        "    p_pops_user = sensitivity\n",
        "    p_neg_user = specificity\n",
        "    p_pops_non_user = 1-specificity\n",
        "\n",
        "    num = p_pops_user*p_user\n",
        "    den = p_pops_user*p_user+p_pops_non_user*p_non_user\n",
        "    prob = num/den\n",
        "\n",
        "    if verbose:\n",
        "        if prob > prob_th:\n",
        "            print(\"The test-taker could be an user\")\n",
        "        else:\n",
        "            print(\"The test-taker may not be an user\")\n",
        "\n",
        "    return prob\n",
        "\n",
        "print(\"Yash Karkhanis\")\n",
        "p=drug_user(prob_th=0.5, sensitivity=0.97, specificity=0.95, prevelance=0.005)\n",
        "print(\"Probablity of the test-taker being a drug user is:\", round(p,3))"
      ]
    }
  ]
}